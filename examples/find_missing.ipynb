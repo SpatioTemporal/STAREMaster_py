{
 "cells": [
  {
   "cell_type": "code",
   "execution_count": 40,
   "metadata": {},
   "outputs": [],
   "source": [
    "import requests\n",
    "import time\n",
    "import glob\n",
    "import os\n",
    "import fnmatch\n",
    "import xml\n",
    "import xml.etree.ElementTree as ET\n",
    "import argparse\n",
    "import NETCDF4"
   ]
  },
  {
   "cell_type": "code",
   "execution_count": 41,
   "metadata": {},
   "outputs": [],
   "source": [
    "def companion_missing(granule_name, companion_names, granule_pattern, companion_pattern):\n",
    "    name_trunk = granule_name.split('.')[0:-1] #only remove .nc\n",
    "    pattern = '.'.join(name_trunk) + companion_pattern #create full file name with _stare.nc\n",
    "    companion_name = fnmatch.filter(companion_names, pattern)\n",
    "    if len(companion_name) == 0:\n",
    "        return True"
   ]
  },
  {
   "cell_type": "code",
   "execution_count": 42,
   "metadata": {},
   "outputs": [],
   "source": [
    "def get_lonely_granules(granule_folder, companion_folder, granule_pattern, companion_pattern):\n",
    "    granule_names = []\n",
    "    for file in glob.glob(os.path.expanduser(granule_folder) + granule_pattern + '*'):\n",
    "        if file[-8:] != 'stare.nc':\n",
    "            granule_names.append(file) #filter out stare files from granule\n",
    "    granule_names = sorted(granule_names)\n",
    "    #granule_names = sorted(glob.glob(os.path.expanduser(granule_folder) + granule_pattern + '*'))\n",
    "    companion_names = sorted(glob.glob(os.path.expanduser(companion_folder) + '*' + companion_pattern)) #switched wildcard order to call stare files\n",
    "    missing = []\n",
    "    for granule_name in granule_names:\n",
    "        if companion_missing(granule_name, companion_names, granule_pattern, companion_pattern):\n",
    "            granule_name = granule_name.split('/')[-1]            \n",
    "            missing.append(granule_name)\n",
    "            print('missing companion for: ' + granule_name)\n",
    "    return missing"
   ]
  },
  {
   "cell_type": "code",
   "execution_count": 43,
   "metadata": {},
   "outputs": [],
   "source": [
    "granule_folder = 'data/'\n",
    "companion_folder = 'data/'\n",
    "granule_pattern = 'CLD'\n",
    "companion_pattern = '_stare.nc'"
   ]
  },
  {
   "cell_type": "code",
   "execution_count": 44,
   "metadata": {},
   "outputs": [
    {
     "name": "stdout",
     "output_type": "stream",
     "text": [
      "missing companion for: CLDMSK_L2_VIIRS_SNPP.A2018167.0712.001.2019064063933.nc\n",
      "missing companion for: CLDMSK_L2_VIIRS_SNPP.A2020099.0518.001.2020099131351.nc\n",
      "missing companion for: CLDMSK_L2_VIIRS_SNPP.A2020219.0742.001.2020219190616.nc\n",
      "missing companion for: CLDMSK_L2_VIIRS_SNPP.A2020234.0442.001.2020234130517.nc\n"
     ]
    },
    {
     "data": {
      "text/plain": [
       "['CLDMSK_L2_VIIRS_SNPP.A2018167.0712.001.2019064063933.nc',\n",
       " 'CLDMSK_L2_VIIRS_SNPP.A2020099.0518.001.2020099131351.nc',\n",
       " 'CLDMSK_L2_VIIRS_SNPP.A2020219.0742.001.2020219190616.nc',\n",
       " 'CLDMSK_L2_VIIRS_SNPP.A2020234.0442.001.2020234130517.nc']"
      ]
     },
     "execution_count": 44,
     "metadata": {},
     "output_type": "execute_result"
    }
   ],
   "source": [
    "get_lonely_granules(granule_folder, companion_folder, granule_pattern, companion_pattern)"
   ]
  },
  {
   "cell_type": "code",
   "execution_count": 45,
   "metadata": {},
   "outputs": [
    {
     "name": "stdout",
     "output_type": "stream",
     "text": [
      "missing companion for: VNP02DNB.A2018167.0712.001.2018170061449.nc\n",
      "missing companion for: VNP02DNB.A2020099.0518.001.2020105152822.nc\n",
      "missing companion for: VNP02DNB.A2020219.0742.001.2020219125654.nc\n",
      "missing companion for: VNP02DNB.A2020234.0442.001.2020234113021.nc\n"
     ]
    },
    {
     "data": {
      "text/plain": [
       "['VNP02DNB.A2018167.0712.001.2018170061449.nc',\n",
       " 'VNP02DNB.A2020099.0518.001.2020105152822.nc',\n",
       " 'VNP02DNB.A2020219.0742.001.2020219125654.nc',\n",
       " 'VNP02DNB.A2020234.0442.001.2020234113021.nc']"
      ]
     },
     "execution_count": 45,
     "metadata": {},
     "output_type": "execute_result"
    }
   ],
   "source": [
    "granule_pattern = 'VNP02'\n",
    "get_lonely_granules(granule_folder, companion_folder, granule_pattern, companion_pattern)"
   ]
  },
  {
   "cell_type": "code",
   "execution_count": 46,
   "metadata": {},
   "outputs": [
    {
     "data": {
      "text/plain": [
       "[]"
      ]
     },
     "execution_count": 46,
     "metadata": {},
     "output_type": "execute_result"
    }
   ],
   "source": [
    "granule_pattern = 'VNP03'\n",
    "get_lonely_granules(granule_folder, companion_folder, granule_pattern, companion_pattern)"
   ]
  },
  {
   "cell_type": "code",
   "execution_count": 47,
   "metadata": {},
   "outputs": [],
   "source": [
    "granule_pattern = 'VNP'\n",
    "companion_pattern = '_stare.nc'"
   ]
  },
  {
   "cell_type": "code",
   "execution_count": 48,
   "metadata": {},
   "outputs": [
    {
     "name": "stdout",
     "output_type": "stream",
     "text": [
      "missing companion for: VNP02DNB.A2018167.0712.001.2018170061449.nc\n",
      "missing companion for: VNP02DNB.A2020099.0518.001.2020105152822.nc\n",
      "missing companion for: VNP02DNB.A2020219.0742.001.2020219125654.nc\n",
      "missing companion for: VNP02DNB.A2020234.0442.001.2020234113021.nc\n"
     ]
    },
    {
     "data": {
      "text/plain": [
       "['VNP02DNB.A2018167.0712.001.2018170061449.nc',\n",
       " 'VNP02DNB.A2020099.0518.001.2020105152822.nc',\n",
       " 'VNP02DNB.A2020219.0742.001.2020219125654.nc',\n",
       " 'VNP02DNB.A2020234.0442.001.2020234113021.nc']"
      ]
     },
     "execution_count": 48,
     "metadata": {},
     "output_type": "execute_result"
    }
   ],
   "source": [
    "get_lonely_granules('data/', 'data/', granule_pattern, companion_pattern)"
   ]
  },
  {
   "cell_type": "code",
   "execution_count": 49,
   "metadata": {},
   "outputs": [],
   "source": [
    "import netCDF4\n",
    "netcdf = netCDF4.Dataset('data/VNP03DNB.A2020234.0442.001.2020234111916_stare.nc', 'r', format = 'NETCDF4')"
   ]
  },
  {
   "cell_type": "code",
   "execution_count": 50,
   "metadata": {},
   "outputs": [],
   "source": [
    "def variable_checker(netcdf):\n",
    "    stare_variables = ['Latitude_750m', 'Longitude_750m', 'STARE_cover_750m', 'STARE_index_750m']\n",
    "    for i in stare_variables:\n",
    "        if netcdf.variables[i] is None:\n",
    "            return True\n",
    "            #print(netcdf + 'is missing variable' + i)\n",
    "        #else:\n",
    "            #pass\n"
   ]
  },
  {
   "cell_type": "code",
   "execution_count": 51,
   "metadata": {},
   "outputs": [],
   "source": [
    "def find_missing_variables(companion_folder, companion_pattern):\n",
    "    companion_names = sorted(glob.glob(os.path.expanduser(companion_folder) + '*' + companion_pattern)) #switched wildcard order to call stare files\n",
    "    for companion_name in companion_names:\n",
    "        missing = []\n",
    "        netcdf = netCDF4.Dataset(companion_name, 'r', format = 'NETCDF4')\n",
    "        if variable_checker(netcdf):\n",
    "            companion_name = companion_name.split('/')[-1]\n",
    "            missing.append(companion_name)\n",
    "    return missing\n",
    "        "
   ]
  },
  {
   "cell_type": "code",
   "execution_count": 52,
   "metadata": {},
   "outputs": [
    {
     "data": {
      "text/plain": [
       "[]"
      ]
     },
     "execution_count": 52,
     "metadata": {},
     "output_type": "execute_result"
    }
   ],
   "source": [
    "find_missing_variables(companion_folder, companion_pattern)"
   ]
  },
  {
   "cell_type": "code",
   "execution_count": 54,
   "metadata": {},
   "outputs": [
    {
     "name": "stderr",
     "output_type": "stream",
     "text": [
      "usage: ipykernel_launcher.py [-h] --granule_folder GRANULE_FOLDER\n",
      "                             [--companion_folder COMPANION_FOLDER]\n",
      "                             --granule_pattern GRANULE_PATTERN\n",
      "                             --companion_pattern COMPANION_PATTERN\n",
      "ipykernel_launcher.py: error: the following arguments are required: --granule_folder, --granule_pattern, --companion_pattern\n"
     ]
    },
    {
     "ename": "SystemExit",
     "evalue": "2",
     "output_type": "error",
     "traceback": [
      "An exception has occurred, use %tb to see the full traceback.\n",
      "\u001b[0;31mSystemExit\u001b[0m\u001b[0;31m:\u001b[0m 2\n"
     ]
    }
   ],
   "source": [
    "if __name__ == '__main__':\n",
    "    parser = argparse.ArgumentParser(description='Finds and retrieves missing geolocation companion files')\n",
    "    parser.add_argument('--granule_folder', type=str, help='Granule folder (e.g. location of VNP02DNB, VNP03DNB, or CLDMSK)', required=True)\n",
    "    parser.add_argument('--companion_folder', type=str, help='Companion folder (e.g. location of *_stare.nc). Default: granule_folder')\n",
    "    \n",
    "    parser.add_argument('--granule_pattern', type=str, help='Pattern of the granule name (e.g. VNP02DNB, VNP03DNB, or CLDMSK)', required=True)\n",
    "    parser.add_argument('--companion_pattern', type=str, help='Pattern of the companion name (e.g _stare.nc)', required=True)\n",
    "    \n",
    "\n",
    "    args = parser.parse_args()\n",
    "   \n",
    "    if args.companion_folder is None:\n",
    "        args.companion_folder = args.granule_folder \n",
    "\n",
    "            \n",
    "        \n",
    "    lonely_granules = get_lonely_granules(granule_folder=args.granule_folder, companion_folder=args.companion_folder, \n",
    "                                          granule_pattern=args.granule_pattern, companion_pattern=args.companion_pattern)\n",
    "    \n",
    "    print('{n} missing companions'.format(n=len(lonely_granules)))\n",
    "    \n",
    "    missing_variables = find_missing_variables(companion_folder=args.companion_folder, companion_pattern=args.companion_pattern)\n",
    "    \n",
    "    print('{n} files are missing variables'.format(n=len(missing_variables)))"
   ]
  },
  {
   "cell_type": "code",
   "execution_count": null,
   "metadata": {},
   "outputs": [],
   "source": []
  }
 ],
 "metadata": {
  "kernelspec": {
   "display_name": "Python 3",
   "language": "python",
   "name": "python3"
  },
  "language_info": {
   "codemirror_mode": {
    "name": "ipython",
    "version": 3
   },
   "file_extension": ".py",
   "mimetype": "text/x-python",
   "name": "python",
   "nbconvert_exporter": "python",
   "pygments_lexer": "ipython3",
   "version": "3.6.8"
  }
 },
 "nbformat": 4,
 "nbformat_minor": 4
}
