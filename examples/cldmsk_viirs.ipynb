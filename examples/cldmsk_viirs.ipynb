{
 "cells": [
  {
   "cell_type": "code",
   "execution_count": null,
   "id": "excessive-treaty",
   "metadata": {},
   "outputs": [],
   "source": [
    "from pyhdf.SD import SD\n",
    "import numpy\n",
    "import pystare\n",
    "import importlib\n",
    "import sys\n",
    "sys.path.insert(0,'../') \n",
    "import staremaster.products.cldmsk_l2_viirs\n",
    "import staremaster.conversions"
   ]
  },
  {
   "cell_type": "code",
   "execution_count": null,
   "id": "anticipated-aircraft",
   "metadata": {},
   "outputs": [],
   "source": [
    "importlib.reload(staremaster.products.cldmsk_l2_viirs)"
   ]
  },
  {
   "cell_type": "code",
   "execution_count": null,
   "id": "hazardous-encoding",
   "metadata": {},
   "outputs": [],
   "source": [
    "file_path = '../tests/data/CLDMSK_L2_VIIRS_SNPP.A2020219.0742.001.2020219190616.nc'"
   ]
  },
  {
   "cell_type": "code",
   "execution_count": null,
   "id": "boring-pontiac",
   "metadata": {},
   "outputs": [],
   "source": [
    "granule = staremaster.products.cldmsk_l2_viirs.CLMDKS_L2_VIIRS(file_path)"
   ]
  },
  {
   "cell_type": "code",
   "execution_count": null,
   "id": "piano-chance",
   "metadata": {},
   "outputs": [],
   "source": [
    "granule.read_latlon()\n",
    "granule.read_gring()"
   ]
  },
  {
   "cell_type": "code",
   "execution_count": null,
   "id": "prime-israeli",
   "metadata": {},
   "outputs": [],
   "source": [
    "sids = staremaster.conversions.latlon2stare(granule.lats, granule.lons, workers=8)"
   ]
  },
  {
   "cell_type": "code",
   "execution_count": null,
   "id": "incredible-cassette",
   "metadata": {},
   "outputs": [],
   "source": [
    "cover_res = staremaster.conversions.min_level(sids)\n",
    "cover_sids = staremaster.conversions.gring2cover(granule.gring_lats, granule.gring_lons, cover_res)"
   ]
  },
  {
   "cell_type": "code",
   "execution_count": null,
   "id": "acknowledged-cologne",
   "metadata": {},
   "outputs": [],
   "source": [
    "staremaster.products.cldmsk_l2_viirs.create_sidecar(file_path, workers=8)"
   ]
  },
  {
   "cell_type": "code",
   "execution_count": null,
   "id": "micro-shape",
   "metadata": {},
   "outputs": [],
   "source": []
  }
 ],
 "metadata": {
  "kernelspec": {
   "display_name": "Python 3",
   "language": "python",
   "name": "python3"
  },
  "language_info": {
   "codemirror_mode": {
    "name": "ipython",
    "version": 3
   },
   "file_extension": ".py",
   "mimetype": "text/x-python",
   "name": "python",
   "nbconvert_exporter": "python",
   "pygments_lexer": "ipython3",
   "version": "3.8.5"
  }
 },
 "nbformat": 4,
 "nbformat_minor": 5
}
