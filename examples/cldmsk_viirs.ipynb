{
 "cells": [
  {
   "cell_type": "code",
   "execution_count": 1,
   "id": "excessive-treaty",
   "metadata": {},
   "outputs": [],
   "source": [
    "from pyhdf.SD import SD\n",
    "import numpy\n",
    "import pystare\n",
    "import importlib\n",
    "import sys\n",
    "sys.path.insert(0,'../') \n",
    "import staremaster.products.cldmsk_l2_viirs\n",
    "import staremaster.conversions"
   ]
  },
  {
   "cell_type": "code",
   "execution_count": 2,
   "id": "anticipated-aircraft",
   "metadata": {},
   "outputs": [
    {
     "data": {
      "text/plain": [
       "<module 'staremaster.products.cldmsk_l2_viirs' from '/home/griessbaum/Dropbox/UCSB/STARE_Project/STAREMaster_py/examples/../staremaster/products/cldmsk_l2_viirs.py'>"
      ]
     },
     "execution_count": 2,
     "metadata": {},
     "output_type": "execute_result"
    }
   ],
   "source": [
    "importlib.reload(staremaster.products.cldmsk_l2_viirs)"
   ]
  },
  {
   "cell_type": "code",
   "execution_count": 3,
   "id": "hazardous-encoding",
   "metadata": {},
   "outputs": [],
   "source": [
    "file_path = '../tests/data/viirs/CLDMSK_L2_VIIRS_SNPP.A2020219.0742.001.2020219190616.nc'"
   ]
  },
  {
   "cell_type": "code",
   "execution_count": 4,
   "id": "boring-pontiac",
   "metadata": {},
   "outputs": [],
   "source": [
    "granule = staremaster.products.cldmsk_l2_viirs.CLMDKS_L2_VIIRS(file_path)"
   ]
  },
  {
   "cell_type": "code",
   "execution_count": 5,
   "id": "piano-chance",
   "metadata": {},
   "outputs": [],
   "source": [
    "granule.read_latlon()\n",
    "granule.read_gring()"
   ]
  },
  {
   "cell_type": "code",
   "execution_count": 6,
   "id": "prime-israeli",
   "metadata": {},
   "outputs": [],
   "source": [
    "sids = staremaster.conversions.latlon2stare(granule.lats, granule.lons, n_workers=4)"
   ]
  },
  {
   "cell_type": "code",
   "execution_count": 7,
   "id": "incredible-cassette",
   "metadata": {},
   "outputs": [],
   "source": [
    "cover_res = staremaster.conversions.min_level(sids)\n",
    "cover_sids = staremaster.conversions.gring2cover(granule.gring_lats, granule.gring_lons, cover_res)"
   ]
  },
  {
   "cell_type": "code",
   "execution_count": 8,
   "id": "acknowledged-cologne",
   "metadata": {},
   "outputs": [
    {
     "ename": "AttributeError",
     "evalue": "module 'staremaster.products.cldmsk_l2_viirs' has no attribute 'create_sidecar'",
     "output_type": "error",
     "traceback": [
      "\u001b[0;31m---------------------------------------------------------------------------\u001b[0m",
      "\u001b[0;31mAttributeError\u001b[0m                            Traceback (most recent call last)",
      "\u001b[0;32m/tmp/ipykernel_20685/3729064286.py\u001b[0m in \u001b[0;36m<module>\u001b[0;34m\u001b[0m\n\u001b[0;32m----> 1\u001b[0;31m \u001b[0mstaremaster\u001b[0m\u001b[0;34m.\u001b[0m\u001b[0mproducts\u001b[0m\u001b[0;34m.\u001b[0m\u001b[0mcldmsk_l2_viirs\u001b[0m\u001b[0;34m.\u001b[0m\u001b[0mcreate_sidecar\u001b[0m\u001b[0;34m(\u001b[0m\u001b[0mfile_path\u001b[0m\u001b[0;34m,\u001b[0m \u001b[0mworkers\u001b[0m\u001b[0;34m=\u001b[0m\u001b[0;36m8\u001b[0m\u001b[0;34m)\u001b[0m\u001b[0;34m\u001b[0m\u001b[0;34m\u001b[0m\u001b[0m\n\u001b[0m",
      "\u001b[0;31mAttributeError\u001b[0m: module 'staremaster.products.cldmsk_l2_viirs' has no attribute 'create_sidecar'"
     ]
    }
   ],
   "source": [
    "granule.create_sidecar(file_path, workers=8)"
   ]
  },
  {
   "cell_type": "code",
   "execution_count": null,
   "id": "micro-shape",
   "metadata": {},
   "outputs": [],
   "source": []
  }
 ],
 "metadata": {
  "kernelspec": {
   "display_name": "Python 3 (ipykernel)",
   "language": "python",
   "name": "python3"
  },
  "language_info": {
   "codemirror_mode": {
    "name": "ipython",
    "version": 3
   },
   "file_extension": ".py",
   "mimetype": "text/x-python",
   "name": "python",
   "nbconvert_exporter": "python",
   "pygments_lexer": "ipython3",
   "version": "3.8.10"
  }
 },
 "nbformat": 4,
 "nbformat_minor": 5
}
