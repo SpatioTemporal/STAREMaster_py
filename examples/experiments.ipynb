{
 "cells": [
  {
   "cell_type": "code",
   "execution_count": 47,
   "metadata": {},
   "outputs": [],
   "source": [
    "import xarray\n",
    "import dask\n",
    "import netCDF4\n",
    "from pyhdf.SD import SD\n",
    "import numpy\n",
    "import pystare"
   ]
  },
  {
   "cell_type": "code",
   "execution_count": 48,
   "metadata": {},
   "outputs": [],
   "source": [
    "file_path = '/home/griessbaum/MOD09/MOD09.A2019317.0815.006.2019319020759.hdf'\n",
    "hdf = SD(file_path)\n",
    "lon = hdf.select('Longitude').get().astype(numpy.double)\n",
    "lat = hdf.select('Latitude').get().astype(numpy.double)"
   ]
  },
  {
   "cell_type": "code",
   "execution_count": 49,
   "metadata": {},
   "outputs": [],
   "source": [
    "lat_x = xarray.DataArray(lat, dims=['x', 'y']).chunk({'x': 500})\n",
    "lon_x = xarray.DataArray(lon, dims=['x', 'y']).chunk({'x': 500})\n",
    "\n",
    "with dask.distributed.Client(n_workers=4) as client:\n",
    "    s_d = xarray.apply_ufunc(pystare.from_latlon2D, \n",
    "                             lat_x,\n",
    "                             lon_x,\n",
    "                             dask='parallelized',\n",
    "                             output_dtypes=[numpy.int64])\n",
    "\n",
    "sids = numpy.array(s_d)"
   ]
  },
  {
   "cell_type": "markdown",
   "metadata": {},
   "source": [
    "# Write NetCDF"
   ]
  },
  {
   "cell_type": "code",
   "execution_count": 54,
   "metadata": {},
   "outputs": [],
   "source": [
    "i_1km = lon.shape[0]\n",
    "j_1km = lon.shape[1]\n",
    "l_1km = i_1km * j_1km # this is wrong!\n",
    "\n",
    "sidecar = '/home/griessbaum/MOD09/MOD09.A2019317.0815.006.2019319020759_stare.hdf'\n",
    "\n",
    "with netCDF4.Dataset(sidecar, \"w\", format=\"NETCDF4\") as rootgrp:\n",
    "    pass\n",
    "    \n",
    "with netCDF4.Dataset(sidecar, \"a\", format=\"NETCDF4\") as rootgrp:\n",
    "    rootgrp.createDimension(\"i_1km\", i_1km)\n",
    "    rootgrp.createDimension(\"j_1km\", j_1km)\n",
    "    rootgrp.createDimension(\"l_1km\", i_1km*j_1km)\n",
    "\n",
    "with netCDF4.Dataset(sidecar, \"a\", format=\"NETCDF4\") as rootgrp:\n",
    "    lats_netcdf = rootgrp.createVariable(varname='Latitude_1km', \n",
    "                                         datatype='f8', \n",
    "                                         dimensions=('i_1km', 'j_1km'),\n",
    "                                         chunksizes=[i_1km, j_1km])\n",
    "    lats_netcdf.long_name = 'latitude'\n",
    "    lats_netcdf.units = 'degrees_north'\n",
    "    lats_netcdf[:, :] = lat\n",
    "\n",
    "with netCDF4.Dataset(sidecar, \"a\", format=\"NETCDF4\") as rootgrp:\n",
    "    lons_netcdf = rootgrp.createVariable(varname='Longitude_1km',\n",
    "                                         datatype='f8', \n",
    "                                         dimensions=('i_1km', 'j_1km'),\n",
    "                                         chunksizes=[i_1km, j_1km])\n",
    "    lons_netcdf.long_name = 'longitude'\n",
    "    lons_netcdf.units = 'degrees_east'\n",
    "    lons_netcdf[:, :] = lon\n",
    "    \n",
    "\n",
    "with netCDF4.Dataset(sidecar, 'a', format=\"NETCDF4\") as rootgrp:\n",
    "    cover_netcdf = rootgrp.createVariable(varname='STARE_cover_1km', \n",
    "                                          datatype='u8', \n",
    "                                          dimensions=('l_1km'),\n",
    "                                          chunksizes=[l_1km])\n",
    "    cover_netcdf.long_name = 'SpatioTemporal Adaptive Resolution Encoding (STARE) cover'\n",
    "\n",
    "with netCDF4.Dataset(sidecar, \"a\", format=\"NETCDF4\") as rootgrp:\n",
    "    sids_netcdf = rootgrp.createVariable(varname='STARE_index_1km', \n",
    "                                         datatype='u8', \n",
    "                                         dimensions=('i_1km', 'j_1km'),\n",
    "                                         chunksizes=[i_1km, j_1km])\n",
    "    sids_netcdf.long_name = 'SpatioTemporal Adaptive Resolution Encoding (STARE) index'\n",
    "    sids_netcdf[:, :] = sids\n"
   ]
  },
  {
   "cell_type": "markdown",
   "metadata": {},
   "source": [
    "# Use the modules"
   ]
  },
  {
   "cell_type": "markdown",
   "metadata": {},
   "source": [
    "## Mod09"
   ]
  },
  {
   "cell_type": "code",
   "execution_count": 1,
   "metadata": {},
   "outputs": [],
   "source": [
    "import importlib\n",
    "import sys\n",
    "sys.path.insert(0,'../') "
   ]
  },
  {
   "cell_type": "code",
   "execution_count": 26,
   "metadata": {},
   "outputs": [
    {
     "data": {
      "text/plain": [
       "<module 'products' from '../products/__init__.py'>"
      ]
     },
     "execution_count": 26,
     "metadata": {},
     "output_type": "execute_result"
    }
   ],
   "source": [
    "import products\n",
    "importlib.reload(products)"
   ]
  },
  {
   "cell_type": "code",
   "execution_count": 27,
   "metadata": {},
   "outputs": [],
   "source": [
    "file_path = '/home/griessbaum/MOD09/MOD09.A2019317.0815.006.2019319020759.hdf'\n",
    "granule = products.MOD09(file_path)"
   ]
  },
  {
   "cell_type": "code",
   "execution_count": 7,
   "metadata": {
    "scrolled": false
   },
   "outputs": [],
   "source": [
    "granule.read_gring()\n",
    "granule.read_laton()"
   ]
  },
  {
   "cell_type": "code",
   "execution_count": 8,
   "metadata": {},
   "outputs": [],
   "source": [
    "chunk_size = 500\n",
    "lat_x = xarray.DataArray(lat, dims=['x', 'y']).chunk({'x': chunk_size})\n",
    "lon_x = xarray.DataArray(lon, dims=['x', 'y']).chunk({'x': chunk_size})\n",
    "with dask.distributed.Client(n_workers=4) as client:\n",
    "    sids = xarray.apply_ufunc(pystare.from_latlon2D,\n",
    "                              lat_x, \n",
    "                              lon_x,\n",
    "                              kwargs={'adapt_resolution': True},\n",
    "                              dask='parallelized',                          \n",
    "                              output_dtypes=[numpy.int64])\n",
    "sids = numpy.array(sids)"
   ]
  },
  {
   "cell_type": "code",
   "execution_count": 15,
   "metadata": {},
   "outputs": [],
   "source": [
    "cover_res = int(pystare.spatial_resolution(sids).max())\n",
    "cover_sids = pystare.to_nonconvex_hull_range_from_latlon(granule.gring_lats,\n",
    "                                                         granule.gring_lats,\n",
    "                                                         13)"
   ]
  },
  {
   "cell_type": "markdown",
   "metadata": {},
   "source": [
    "## Sidecar"
   ]
  },
  {
   "cell_type": "code",
   "execution_count": 12,
   "metadata": {},
   "outputs": [
    {
     "data": {
      "text/plain": [
       "<module 'sidecar' from '../sidecar.py'>"
      ]
     },
     "execution_count": 12,
     "metadata": {},
     "output_type": "execute_result"
    }
   ],
   "source": [
    "import sidecar\n",
    "importlib.reload(sidecar)"
   ]
  },
  {
   "cell_type": "code",
   "execution_count": 13,
   "metadata": {},
   "outputs": [],
   "source": [
    "scar = sidecar.Sidecar(file_path)"
   ]
  },
  {
   "cell_type": "code",
   "execution_count": 16,
   "metadata": {},
   "outputs": [],
   "source": [
    "i = sids.shape[0]\n",
    "j = sids.shape[1]\n",
    "l = cover_sids.size \n",
    "scar.write_dimensions(i, j, l)"
   ]
  },
  {
   "cell_type": "code",
   "execution_count": 21,
   "metadata": {},
   "outputs": [
    {
     "data": {
      "text/plain": [
       "2030"
      ]
     },
     "execution_count": 21,
     "metadata": {},
     "output_type": "execute_result"
    }
   ],
   "source": [
    "granule.lons.shape[0]"
   ]
  },
  {
   "cell_type": "code",
   "execution_count": 18,
   "metadata": {},
   "outputs": [
    {
     "ename": "ValueError",
     "evalue": "shape mismatch: objects cannot be broadcast to a single shape",
     "output_type": "error",
     "traceback": [
      "\u001b[0;31m---------------------------------------------------------------------------\u001b[0m",
      "\u001b[0;31mValueError\u001b[0m                                Traceback (most recent call last)",
      "\u001b[0;32m<ipython-input-18-13590648540e>\u001b[0m in \u001b[0;36m<module>\u001b[0;34m\u001b[0m\n\u001b[0;32m----> 1\u001b[0;31m \u001b[0mscar\u001b[0m\u001b[0;34m.\u001b[0m\u001b[0mwrite_lons\u001b[0m\u001b[0;34m(\u001b[0m\u001b[0mgranule\u001b[0m\u001b[0;34m.\u001b[0m\u001b[0mlons\u001b[0m\u001b[0;34m,\u001b[0m \u001b[0mnom_res\u001b[0m\u001b[0;34m=\u001b[0m\u001b[0;34m'1km'\u001b[0m\u001b[0;34m)\u001b[0m\u001b[0;34m\u001b[0m\u001b[0;34m\u001b[0m\u001b[0m\n\u001b[0m\u001b[1;32m      2\u001b[0m \u001b[0mscar\u001b[0m\u001b[0;34m.\u001b[0m\u001b[0mwrite_lats\u001b[0m\u001b[0;34m(\u001b[0m\u001b[0mgranule\u001b[0m\u001b[0;34m.\u001b[0m\u001b[0mlats\u001b[0m\u001b[0;34m,\u001b[0m \u001b[0mnom_res\u001b[0m\u001b[0;34m=\u001b[0m\u001b[0;34m'1km'\u001b[0m\u001b[0;34m)\u001b[0m\u001b[0;34m\u001b[0m\u001b[0;34m\u001b[0m\u001b[0m\n\u001b[1;32m      3\u001b[0m \u001b[0mscar\u001b[0m\u001b[0;34m.\u001b[0m\u001b[0mwrite_sids\u001b[0m\u001b[0;34m(\u001b[0m\u001b[0msids\u001b[0m\u001b[0;34m,\u001b[0m \u001b[0mnom_res\u001b[0m\u001b[0;34m=\u001b[0m\u001b[0;34m'1km'\u001b[0m\u001b[0;34m)\u001b[0m\u001b[0;34m\u001b[0m\u001b[0;34m\u001b[0m\u001b[0m\n\u001b[1;32m      4\u001b[0m \u001b[0mscar\u001b[0m\u001b[0;34m.\u001b[0m\u001b[0mwrite_cover\u001b[0m\u001b[0;34m(\u001b[0m\u001b[0mcover_sids\u001b[0m\u001b[0;34m,\u001b[0m \u001b[0mnom_res\u001b[0m\u001b[0;34m=\u001b[0m\u001b[0;34m'1km'\u001b[0m\u001b[0;34m)\u001b[0m\u001b[0;34m\u001b[0m\u001b[0;34m\u001b[0m\u001b[0m\n",
      "\u001b[0;32m~/Dropbox/UCSB/STARE_Project/STAREMaster_py/sidecar.py\u001b[0m in \u001b[0;36mwrite_lons\u001b[0;34m(self, lons, nom_res)\u001b[0m\n\u001b[1;32m     37\u001b[0m             \u001b[0mlons_netcdf\u001b[0m\u001b[0;34m.\u001b[0m\u001b[0mlong_name\u001b[0m \u001b[0;34m=\u001b[0m \u001b[0;34m'latitude'\u001b[0m\u001b[0;34m\u001b[0m\u001b[0;34m\u001b[0m\u001b[0m\n\u001b[1;32m     38\u001b[0m             \u001b[0mlons_netcdf\u001b[0m\u001b[0;34m.\u001b[0m\u001b[0munits\u001b[0m \u001b[0;34m=\u001b[0m \u001b[0;34m'degrees_east'\u001b[0m\u001b[0;34m\u001b[0m\u001b[0;34m\u001b[0m\u001b[0m\n\u001b[0;32m---> 39\u001b[0;31m             \u001b[0mlons_netcdf\u001b[0m\u001b[0;34m[\u001b[0m\u001b[0;34m:\u001b[0m\u001b[0;34m,\u001b[0m \u001b[0;34m:\u001b[0m\u001b[0;34m]\u001b[0m \u001b[0;34m=\u001b[0m \u001b[0mlons\u001b[0m\u001b[0;34m\u001b[0m\u001b[0;34m\u001b[0m\u001b[0m\n\u001b[0m\u001b[1;32m     40\u001b[0m \u001b[0;34m\u001b[0m\u001b[0m\n\u001b[1;32m     41\u001b[0m     \u001b[0;32mdef\u001b[0m \u001b[0mwrite_lats\u001b[0m\u001b[0;34m(\u001b[0m\u001b[0mself\u001b[0m\u001b[0;34m,\u001b[0m \u001b[0mlats\u001b[0m\u001b[0;34m,\u001b[0m \u001b[0mnom_res\u001b[0m\u001b[0;34m=\u001b[0m\u001b[0;34m'1km'\u001b[0m\u001b[0;34m)\u001b[0m\u001b[0;34m:\u001b[0m\u001b[0;34m\u001b[0m\u001b[0;34m\u001b[0m\u001b[0m\n",
      "\u001b[0;32mnetCDF4/_netCDF4.pyx\u001b[0m in \u001b[0;36mnetCDF4._netCDF4.Variable.__setitem__\u001b[0;34m()\u001b[0m\n",
      "\u001b[0;32m~/.virtualenvs/staremaster_py/lib/python3.8/site-packages/netCDF4/utils.py\u001b[0m in \u001b[0;36m_StartCountStride\u001b[0;34m(elem, shape, dimensions, grp, datashape, put, use_get_vars)\u001b[0m\n\u001b[1;32m    363\u001b[0m         \u001b[0mfullslice\u001b[0m \u001b[0;34m=\u001b[0m \u001b[0;32mFalse\u001b[0m\u001b[0;34m\u001b[0m\u001b[0;34m\u001b[0m\u001b[0m\n\u001b[1;32m    364\u001b[0m     \u001b[0;32mif\u001b[0m \u001b[0mfullslice\u001b[0m \u001b[0;32mand\u001b[0m \u001b[0mdatashape\u001b[0m \u001b[0;32mand\u001b[0m \u001b[0mput\u001b[0m \u001b[0;32mand\u001b[0m \u001b[0;32mnot\u001b[0m \u001b[0mhasunlim\u001b[0m\u001b[0;34m:\u001b[0m\u001b[0;34m\u001b[0m\u001b[0;34m\u001b[0m\u001b[0m\n\u001b[0;32m--> 365\u001b[0;31m         \u001b[0mdatashape\u001b[0m \u001b[0;34m=\u001b[0m \u001b[0mbroadcasted_shape\u001b[0m\u001b[0;34m(\u001b[0m\u001b[0mshape\u001b[0m\u001b[0;34m,\u001b[0m \u001b[0mdatashape\u001b[0m\u001b[0;34m)\u001b[0m\u001b[0;34m\u001b[0m\u001b[0;34m\u001b[0m\u001b[0m\n\u001b[0m\u001b[1;32m    366\u001b[0m \u001b[0;34m\u001b[0m\u001b[0m\n\u001b[1;32m    367\u001b[0m     \u001b[0;31m# pad datashape with zeros for dimensions not being sliced (issue #906)\u001b[0m\u001b[0;34m\u001b[0m\u001b[0;34m\u001b[0m\u001b[0;34m\u001b[0m\u001b[0m\n",
      "\u001b[0;32m~/.virtualenvs/staremaster_py/lib/python3.8/site-packages/netCDF4/utils.py\u001b[0m in \u001b[0;36mbroadcasted_shape\u001b[0;34m(shp1, shp2)\u001b[0m\n\u001b[1;32m    971\u001b[0m     \u001b[0ma\u001b[0m \u001b[0;34m=\u001b[0m \u001b[0mas_strided\u001b[0m\u001b[0;34m(\u001b[0m\u001b[0mx\u001b[0m\u001b[0;34m,\u001b[0m \u001b[0mshape\u001b[0m\u001b[0;34m=\u001b[0m\u001b[0mshp1\u001b[0m\u001b[0;34m,\u001b[0m \u001b[0mstrides\u001b[0m\u001b[0;34m=\u001b[0m\u001b[0;34m[\u001b[0m\u001b[0;36m0\u001b[0m\u001b[0;34m]\u001b[0m \u001b[0;34m*\u001b[0m \u001b[0mlen\u001b[0m\u001b[0;34m(\u001b[0m\u001b[0mshp1\u001b[0m\u001b[0;34m)\u001b[0m\u001b[0;34m)\u001b[0m\u001b[0;34m\u001b[0m\u001b[0;34m\u001b[0m\u001b[0m\n\u001b[1;32m    972\u001b[0m     \u001b[0mb\u001b[0m \u001b[0;34m=\u001b[0m \u001b[0mas_strided\u001b[0m\u001b[0;34m(\u001b[0m\u001b[0mx\u001b[0m\u001b[0;34m,\u001b[0m \u001b[0mshape\u001b[0m\u001b[0;34m=\u001b[0m\u001b[0mshp2\u001b[0m\u001b[0;34m,\u001b[0m \u001b[0mstrides\u001b[0m\u001b[0;34m=\u001b[0m\u001b[0;34m[\u001b[0m\u001b[0;36m0\u001b[0m\u001b[0;34m]\u001b[0m \u001b[0;34m*\u001b[0m \u001b[0mlen\u001b[0m\u001b[0;34m(\u001b[0m\u001b[0mshp2\u001b[0m\u001b[0;34m)\u001b[0m\u001b[0;34m)\u001b[0m\u001b[0;34m\u001b[0m\u001b[0;34m\u001b[0m\u001b[0m\n\u001b[0;32m--> 973\u001b[0;31m     \u001b[0;32mreturn\u001b[0m \u001b[0mnp\u001b[0m\u001b[0;34m.\u001b[0m\u001b[0mbroadcast\u001b[0m\u001b[0;34m(\u001b[0m\u001b[0ma\u001b[0m\u001b[0;34m,\u001b[0m \u001b[0mb\u001b[0m\u001b[0;34m)\u001b[0m\u001b[0;34m.\u001b[0m\u001b[0mshape\u001b[0m\u001b[0;34m\u001b[0m\u001b[0;34m\u001b[0m\u001b[0m\n\u001b[0m",
      "\u001b[0;31mValueError\u001b[0m: shape mismatch: objects cannot be broadcast to a single shape"
     ]
    }
   ],
   "source": [
    "scar.write_lons(granule.lons, nom_res='1km')\n",
    "scar.write_lats(granule.lats, nom_res='1km')\n",
    "scar.write_sids(sids, nom_res='1km')\n",
    "scar.write_cover(cover_sids, nom_res='1km')"
   ]
  },
  {
   "cell_type": "markdown",
   "metadata": {},
   "source": [
    "# VNP02DNB"
   ]
  },
  {
   "cell_type": "code",
   "execution_count": 42,
   "metadata": {},
   "outputs": [
    {
     "data": {
      "text/plain": [
       "<module 'products' from '../products/__init__.py'>"
      ]
     },
     "execution_count": 42,
     "metadata": {},
     "output_type": "execute_result"
    }
   ],
   "source": [
    "importlib.reload(products)"
   ]
  },
  {
   "cell_type": "code",
   "execution_count": 43,
   "metadata": {},
   "outputs": [],
   "source": [
    "file_path = '/home/griessbaum/MOD09/VNP03DNB.A2012092.1642.001.2017285224354.nc'\n",
    "vnp02 = products.VNP03DNB(file_path)"
   ]
  },
  {
   "cell_type": "code",
   "execution_count": 46,
   "metadata": {},
   "outputs": [
    {
     "data": {
      "text/plain": [
       "array([[10.78973866, 10.78894711, 10.78815651, ...,  6.6385808 ,\n",
       "         6.63725662,  6.63592243],\n",
       "       [10.79673862, 10.79594517, 10.79515171, ...,  6.64541388,\n",
       "         6.64408588,  6.64275074],\n",
       "       [10.80373955, 10.80294228, 10.80214596, ...,  6.65226889,\n",
       "         6.65090799,  6.64946222],\n",
       "       ...,\n",
       "       [31.55126953, 31.5510273 , 31.55078506, ..., 26.86467171,\n",
       "        26.86257744, 26.86047745],\n",
       "       [31.55830193, 31.55805588, 31.55781364, ..., 26.87133217,\n",
       "        26.86923599, 26.86714172],\n",
       "       [31.56533241, 31.56508827, 31.56484222, ..., 26.87798882,\n",
       "        26.87590027, 26.87380409]])"
      ]
     },
     "execution_count": 46,
     "metadata": {},
     "output_type": "execute_result"
    }
   ],
   "source": [
    "vnp02.lats.astype(numpy.double)"
   ]
  },
  {
   "cell_type": "code",
   "execution_count": null,
   "metadata": {},
   "outputs": [],
   "source": []
  }
 ],
 "metadata": {
  "kernelspec": {
   "display_name": "Python 3",
   "language": "python",
   "name": "python3"
  },
  "language_info": {
   "codemirror_mode": {
    "name": "ipython",
    "version": 3
   },
   "file_extension": ".py",
   "mimetype": "text/x-python",
   "name": "python",
   "nbconvert_exporter": "python",
   "pygments_lexer": "ipython3",
   "version": "3.8.5"
  }
 },
 "nbformat": 4,
 "nbformat_minor": 4
}
