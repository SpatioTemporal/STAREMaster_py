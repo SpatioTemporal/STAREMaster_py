{
 "cells": [
  {
   "cell_type": "code",
   "execution_count": 5,
   "metadata": {},
   "outputs": [],
   "source": [
    "import netCDF4\n",
    "from pyhdf.SD import SD\n",
    "import numpy"
   ]
  },
  {
   "cell_type": "code",
   "execution_count": 6,
   "metadata": {},
   "outputs": [],
   "source": [
    "file_path = '/home/griessbaum/MOD09/MOD09.A2019317.0815.006.2019319020759.hdf'\n",
    "hdf = SD(file_path)\n",
    "lon = hdf.select('Longitude').get().astype(numpy.double)\n",
    "lat = hdf.select('Latitude').get().astype(numpy.double)"
   ]
  },
  {
   "cell_type": "code",
   "execution_count": 9,
   "metadata": {},
   "outputs": [],
   "source": [
    "sids = (lon*lat).astype(numpy.int)"
   ]
  },
  {
   "cell_type": "code",
   "execution_count": 10,
   "metadata": {},
   "outputs": [],
   "source": [
    "i_1km = lon.shape[0]\n",
    "j_1km = lon.shape[1]\n",
    "l_1km = i_1km * j_1km # this is wrong!\n",
    "\n",
    "sidecar = '/home/griessbaum/MOD09/MOD09.A2019317.0815.006.2019319020759_stare.hdf'\n",
    "\n",
    "with netCDF4.Dataset(sidecar, \"w\", format=\"NETCDF4\") as rootgrp:\n",
    "    pass\n",
    "    \n",
    "with netCDF4.Dataset(sidecar, \"a\", format=\"NETCDF4\") as rootgrp:\n",
    "    rootgrp.createDimension(\"i_1km\", i_1km)\n",
    "    rootgrp.createDimension(\"j_1km\", j_1km)\n",
    "    rootgrp.createDimension(\"l_1km\", i_1km*j_1km)\n",
    "\n",
    "with netCDF4.Dataset(sidecar, \"a\", format=\"NETCDF4\") as rootgrp:\n",
    "    lats_netcdf = rootgrp.createVariable(varname='Latitude_1km', \n",
    "                                         datatype='f4', \n",
    "                                         dimensions=('i_1km', 'j_1km'),\n",
    "                                         chunksizes=[i_1km, j_1km])\n",
    "    lats_netcdf.long_name = 'latitude'\n",
    "    lats_netcdf.units = 'degrees_north'\n",
    "    lats_netcdf[:, :] = lat\n",
    "\n",
    "with netCDF4.Dataset(sidecar, \"a\", format=\"NETCDF4\") as rootgrp:\n",
    "    lons_netcdf = rootgrp.createVariable(varname='Longitude_1km',\n",
    "                                         datatype='f4', \n",
    "                                         dimensions=('i_1km', 'j_1km'),\n",
    "                                         chunksizes=[i_1km, j_1km])\n",
    "    lons_netcdf.long_name = 'longitude'\n",
    "    lons_netcdf.units = 'degrees_east'\n",
    "    lons_netcdf[:, :] = lon\n",
    "    \n",
    "\n",
    "with netCDF4.Dataset(sidecar, 'a', format=\"NETCDF4\") as rootgrp:\n",
    "    cover_netcdf = rootgrp.createVariable(varname='STARE_cover_1km', \n",
    "                                          datatype='u8', \n",
    "                                          dimensions=('l_1km'),\n",
    "                                          chunksizes=[l_1km])\n",
    "    cover_netcdf.long_name = 'SpatioTemporal Adaptive Resolution Encoding (STARE) cover'\n",
    "\n",
    "with netCDF4.Dataset(sidecar, \"a\", format=\"NETCDF4\") as rootgrp:\n",
    "    sids_netcdf = rootgrp.createVariable(varname='STARE_index_1km', \n",
    "                                         datatype='u8', \n",
    "                                         dimensions=('i_1km', 'j_1km'),\n",
    "                                         chunksizes=[i_1km, j_1km])\n",
    "    sids_netcdf.long_name = 'SpatioTemporal Adaptive Resolution Encoding (STARE) index'\n",
    "    sids_netcdf[:, :] = sids\n"
   ]
  },
  {
   "cell_type": "code",
   "execution_count": null,
   "metadata": {},
   "outputs": [],
   "source": []
  }
 ],
 "metadata": {
  "kernelspec": {
   "display_name": "Python 3",
   "language": "python",
   "name": "python3"
  },
  "language_info": {
   "codemirror_mode": {
    "name": "ipython",
    "version": 3
   },
   "file_extension": ".py",
   "mimetype": "text/x-python",
   "name": "python",
   "nbconvert_exporter": "python",
   "pygments_lexer": "ipython3",
   "version": "3.8.5"
  }
 },
 "nbformat": 4,
 "nbformat_minor": 4
}
