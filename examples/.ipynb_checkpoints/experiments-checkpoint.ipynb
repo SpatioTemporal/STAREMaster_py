{
 "cells": [
  {
   "cell_type": "code",
   "execution_count": 1,
   "metadata": {},
   "outputs": [],
   "source": [
    "import xarray\n",
    "import dask\n",
    "import netCDF4\n",
    "from pyhdf.SD import SD\n",
    "import numpy\n",
    "import pystare"
   ]
  },
  {
   "cell_type": "code",
   "execution_count": 2,
   "metadata": {},
   "outputs": [],
   "source": [
    "file_path = '/home/griessbaum/MOD09/MOD09.A2019317.0815.006.2019319020759.hdf'\n",
    "hdf = SD(file_path)\n",
    "lon = hdf.select('Longitude').get().astype(numpy.double)\n",
    "lat = hdf.select('Latitude').get().astype(numpy.double)"
   ]
  },
  {
   "cell_type": "code",
   "execution_count": 3,
   "metadata": {},
   "outputs": [],
   "source": [
    "client = dask.distributed.Client(n_workers=4)"
   ]
  },
  {
   "cell_type": "code",
   "execution_count": 4,
   "metadata": {},
   "outputs": [],
   "source": [
    "lat_x = xarray.DataArray(lat, dims=['x', 'y']).chunk({'x': 500})\n",
    "lon_x = xarray.DataArray(lon, dims=['x', 'y']).chunk({'x': 500})\n",
    "\n",
    "s_d = xarray.apply_ufunc(pystare.from_latlon2D, \n",
    "                         lat_x,\n",
    "                         lon_x,\n",
    "                         dask='parallelized',\n",
    "                         output_dtypes=[numpy.int64])\n",
    "\n",
    "sids = numpy.array(s_d)"
   ]
  },
  {
   "cell_type": "markdown",
   "metadata": {},
   "source": [
    "# Write NetCDF"
   ]
  },
  {
   "cell_type": "code",
   "execution_count": 5,
   "metadata": {},
   "outputs": [],
   "source": [
    "def write_variable():\n",
    "    sids_netcdf = rootgrp.createVariable(varname='STARE_index_5km', \n",
    "                                     datatype='u8', \n",
    "                                     dimensions=('i_1km', 'j_1km'),\n",
    "                                     chunksizes=[i_1km, j_1km])\n",
    "    \n",
    "\n",
    "i_1km = lon.shape[0]\n",
    "j_1km = lon.shape[1]\n",
    "l_1km = i_1km * j_1km # this is wrong!\n",
    "\n",
    "with netCDF4.Dataset('test.nc', \"w\", format=\"NETCDF4\") as rootgrp:\n",
    "    pass\n",
    "    \n",
    "with netCDF4.Dataset('test.nc', \"a\", format=\"NETCDF4\") as rootgrp:\n",
    "    rootgrp.createDimension(\"i_1km\", i_1km)\n",
    "    rootgrp.createDimension(\"j_1km\", j_1km)\n",
    "    rootgrp.createDimension(\"l_1km\", i_1km*j_1km)\n",
    "\n",
    "with netCDF4.Dataset('test.nc', \"a\", format=\"NETCDF4\") as rootgrp:\n",
    "    lats_netcdf = rootgrp.createVariable(varname='Latitude_1km', \n",
    "                                         datatype='f8', \n",
    "                                         dimensions=('i_1km', 'j_1km'),\n",
    "                                         chunksizes=[i_1km, j_1km])\n",
    "    lats_netcdf.long_name = 'latitude'\n",
    "    lats_netcdf.units = 'degrees_north'\n",
    "    lats_netcdf[:, :] = lat\n",
    "\n",
    "with netCDF4.Dataset('test.nc', \"a\", format=\"NETCDF4\") as rootgrp:\n",
    "    lons_netcdf = rootgrp.createVariable(varname='Longitude_1km',\n",
    "                                         datatype='f8', \n",
    "                                         dimensions=('i_1km', 'j_1km'),\n",
    "                                         chunksizes=[i_1km, j_1km])\n",
    "    lons_netcdf.long_name = 'longitude'\n",
    "    lons_netcdf.units = 'degrees_east'\n",
    "    lons_netcdf[:, :] = lon\n",
    "    \n",
    "\n",
    "with netCDF4.Dataset('test.nc', 'a', format=\"NETCDF4\") as rootgrp:\n",
    "    cover_netcdf = rootgrp.createVariable(varname='STARE_cover_1km', \n",
    "                                          datatype='u8', \n",
    "                                          dimensions=('l_1km'),\n",
    "                                          chunksizes=[l_1km])\n",
    "    cover_netcdf.long_name = 'SpatioTemporal Adaptive Resolution Encoding (STARE) cover'\n",
    "\n",
    "with netCDF4.Dataset('test.nc', \"a\", format=\"NETCDF4\") as rootgrp:\n",
    "    sids_netcdf = rootgrp.createVariable(varname='STARE_index_1km', \n",
    "                                         datatype='u8', \n",
    "                                         dimensions=('i_1km', 'j_1km'),\n",
    "                                         chunksizes=[i_1km, j_1km])\n",
    "    sids_netcdf.long_name = 'SpatioTemporal Adaptive Resolution Encoding (STARE) index'\n",
    "    sids_netcdf[:, :] = sids\n"
   ]
  },
  {
   "cell_type": "markdown",
   "metadata": {},
   "source": [
    "# Use the modules"
   ]
  },
  {
   "cell_type": "markdown",
   "metadata": {},
   "source": [
    "## Mod09"
   ]
  },
  {
   "cell_type": "code",
   "execution_count": 5,
   "metadata": {},
   "outputs": [],
   "source": [
    "import importlib\n",
    "import sys\n",
    "sys.path.insert(0,'../') "
   ]
  },
  {
   "cell_type": "code",
   "execution_count": 7,
   "metadata": {},
   "outputs": [
    {
     "data": {
      "text/plain": [
       "<module 'products' from '../products/__init__.py'>"
      ]
     },
     "execution_count": 7,
     "metadata": {},
     "output_type": "execute_result"
    }
   ],
   "source": [
    "import products\n",
    "importlib.reload(products)"
   ]
  },
  {
   "cell_type": "code",
   "execution_count": 8,
   "metadata": {},
   "outputs": [],
   "source": [
    "file_path = '/home/griessbaum/MOD09/MOD09.A2019317.0815.006.2019319020759.hdf'\n",
    "granule = products.MOD09(file_path)"
   ]
  },
  {
   "cell_type": "code",
   "execution_count": 16,
   "metadata": {
    "scrolled": false
   },
   "outputs": [],
   "source": [
    "granule.read_gring()\n",
    "granule.read_laton()"
   ]
  },
  {
   "cell_type": "code",
   "execution_count": 10,
   "metadata": {},
   "outputs": [],
   "source": [
    "chunk_size = 500\n",
    "lat_x = xarray.DataArray(lat, dims=['x', 'y']).chunk({'x': chunk_size})\n",
    "lon_x = xarray.DataArray(lon, dims=['x', 'y']).chunk({'x': chunk_size})\n",
    "sids = xarray.apply_ufunc(pystare.from_latlon2D,\n",
    "                          lat_x, \n",
    "                          lon_x,\n",
    "                          kwargs={'adapt_resolution': True},\n",
    "                          dask='parallelized',                          \n",
    "                          output_dtypes=[numpy.int64])\n",
    "sids = numpy.array(sids)"
   ]
  },
  {
   "cell_type": "code",
   "execution_count": 23,
   "metadata": {},
   "outputs": [
    {
     "data": {
      "text/plain": [
       "13"
      ]
     },
     "execution_count": 23,
     "metadata": {},
     "output_type": "execute_result"
    }
   ],
   "source": [
    "int(cover_res)"
   ]
  },
  {
   "cell_type": "code",
   "execution_count": 19,
   "metadata": {},
   "outputs": [],
   "source": [
    "cover_res = int(pystare.spatial_resolution(sids).max())\n",
    "\n",
    "cover_sids = pystare.to_nonconvex_hull_range_from_latlon(granule.gring_lats,\n",
    "                                                         granule.gring_lats,\n",
    "                                                         13)"
   ]
  },
  {
   "cell_type": "markdown",
   "metadata": {},
   "source": [
    "## Sidecar"
   ]
  },
  {
   "cell_type": "code",
   "execution_count": 63,
   "metadata": {},
   "outputs": [
    {
     "data": {
      "text/plain": [
       "<module 'sidecar' from '../sidecar.py'>"
      ]
     },
     "execution_count": 63,
     "metadata": {},
     "output_type": "execute_result"
    }
   ],
   "source": [
    "import sidecar\n",
    "importlib.reload(sidecar)"
   ]
  },
  {
   "cell_type": "code",
   "execution_count": 73,
   "metadata": {},
   "outputs": [],
   "source": [
    "scar = sidecar.Sidecar(file_path)"
   ]
  },
  {
   "cell_type": "code",
   "execution_count": 74,
   "metadata": {},
   "outputs": [],
   "source": [
    "i = sids.shape[0]\n",
    "j = sids.shape[1]\n",
    "l = cover_sids.size \n",
    "scar.write_dimensions(i, j, l)"
   ]
  },
  {
   "cell_type": "code",
   "execution_count": 75,
   "metadata": {},
   "outputs": [],
   "source": [
    "scar.write_lons(granule.lon, nom_res='1km')\n",
    "scar.write_lats(granule.lat, nom_res='1km')\n",
    "scar.write_sids(sids, nom_res='1km')\n",
    "scar.write_cover(cover_sids, nom_res='1km')"
   ]
  },
  {
   "cell_type": "code",
   "execution_count": null,
   "metadata": {},
   "outputs": [],
   "source": [
    "# "
   ]
  }
 ],
 "metadata": {
  "kernelspec": {
   "display_name": "Python 3",
   "language": "python",
   "name": "python3"
  },
  "language_info": {
   "codemirror_mode": {
    "name": "ipython",
    "version": 3
   },
   "file_extension": ".py",
   "mimetype": "text/x-python",
   "name": "python",
   "nbconvert_exporter": "python",
   "pygments_lexer": "ipython3",
   "version": "3.8.5"
  }
 },
 "nbformat": 4,
 "nbformat_minor": 4
}
