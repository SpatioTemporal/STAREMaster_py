{
 "cells": [
  {
   "cell_type": "code",
   "execution_count": 6,
   "metadata": {},
   "outputs": [],
   "source": [
    "import multiprocessing\n",
    "import itertools\n",
    "import random\n",
    "import time\n",
    "import filelock \n",
    "import glob"
   ]
  },
  {
   "cell_type": "code",
   "execution_count": 2,
   "metadata": {},
   "outputs": [],
   "source": [
    "def create_sidecar(file_path, workers, product, cover_res, out_path):    \n",
    "    time.sleep(random.random())\n",
    "    print(file_path)\n",
    "    with filelock.FileLock(\"catalogue.txt.lock\"):        \n",
    "        with open(\"catalogue.txt\", 'a') as cat:\n",
    "            cat.writelines(file_path + ' \\n')"
   ]
  },
  {
   "cell_type": "code",
   "execution_count": 5,
   "metadata": {},
   "outputs": [
    {
     "data": {
      "text/plain": [
       "[('a.hdf', None, 'MOD09', 1, 'path/'),\n",
       " ('b.hdf', None, 'MOD09', 1, 'path/'),\n",
       " ('c.hdf', None, 'MOD09', 1, 'path/')]"
      ]
     },
     "execution_count": 5,
     "metadata": {},
     "output_type": "execute_result"
    }
   ],
   "source": [
    "file_paths = ['a.hdf', 'b.hdf', 'c.hdf']\n",
    "product = 'MOD09'\n",
    "cover_res = 1\n",
    "out_path = 'path/'\n",
    "workers = None\n",
    "args = zip(file_paths, \n",
    "                itertools.repeat(workers),\n",
    "                itertools.repeat(product),\n",
    "                itertools.repeat(cover_res),\n",
    "                itertools.repeat(out_path))\n",
    "list(args)"
   ]
  },
  {
   "cell_type": "code",
   "execution_count": 4,
   "metadata": {
    "scrolled": true
   },
   "outputs": [
    {
     "name": "stdout",
     "output_type": "stream",
     "text": [
      "b.hdf\n",
      "a.hdf\n",
      "c.hdf\n"
     ]
    }
   ],
   "source": [
    "with open('catalogue.txt', 'w') as cat:\n",
    "    pass\n",
    "    \n",
    "with multiprocessing.Pool(processes=4) as pool:\n",
    "    pool.starmap(create_sidecar, args)"
   ]
  }
 ],
 "metadata": {
  "kernelspec": {
   "display_name": "Python 3",
   "language": "python",
   "name": "python3"
  },
  "language_info": {
   "codemirror_mode": {
    "name": "ipython",
    "version": 3
   },
   "file_extension": ".py",
   "mimetype": "text/x-python",
   "name": "python",
   "nbconvert_exporter": "python",
   "pygments_lexer": "ipython3",
   "version": "3.8.5"
  }
 },
 "nbformat": 4,
 "nbformat_minor": 4
}
