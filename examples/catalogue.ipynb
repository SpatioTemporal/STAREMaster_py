{
 "cells": [
  {
   "cell_type": "code",
   "execution_count": 1,
   "metadata": {},
   "outputs": [],
   "source": [
    "import pandas\n",
    "import glob"
   ]
  },
  {
   "cell_type": "markdown",
   "metadata": {},
   "source": [
    "# Pandas"
   ]
  },
  {
   "cell_type": "code",
   "execution_count": 2,
   "metadata": {
    "scrolled": true
   },
   "outputs": [
    {
     "data": {
      "text/plain": [
       "0    /home/griessbaum/MOD09/MOD05_L2.A2019336.0000....\n",
       "1    /home/griessbaum/MOD09/MOD05_L2.A2020254.1320....\n",
       "2    /home/griessbaum/MOD09/MOD05_L2.A2005349.2125....\n",
       "dtype: object"
      ]
     },
     "execution_count": 2,
     "metadata": {},
     "output_type": "execute_result"
    }
   ],
   "source": [
    "file_paths = glob.glob('/home/griessbaum/MOD09/MOD05*[!_stare].hdf')\n",
    "file_paths = pandas.Series(file_paths)\n",
    "file_paths"
   ]
  },
  {
   "cell_type": "code",
   "execution_count": 73,
   "metadata": {},
   "outputs": [
    {
     "data": {
      "text/plain": [
       "0    /home/griessbaum/MOD09/MOD05_L2.A2005349.2125....\n",
       "1    /home/griessbaum/MOD09/MOD05_L2.A2019336.0000....\n",
       "Name: 0, dtype: object"
      ]
     },
     "execution_count": 73,
     "metadata": {},
     "output_type": "execute_result"
    }
   ],
   "source": [
    "catalogue = pandas.read_csv('../cat.txt', header=None)[0]\n",
    "catalogue"
   ]
  },
  {
   "cell_type": "code",
   "execution_count": 75,
   "metadata": {},
   "outputs": [],
   "source": [
    "skip = file_paths.isin(list(catalogue))"
   ]
  },
  {
   "cell_type": "code",
   "execution_count": 76,
   "metadata": {},
   "outputs": [
    {
     "data": {
      "text/plain": [
       "['/home/griessbaum/MOD09/MOD05_L2.A2020254.1320.061.2020255013126.hdf']"
      ]
     },
     "execution_count": 76,
     "metadata": {},
     "output_type": "execute_result"
    }
   ],
   "source": [
    "list(file_paths[skip==False])"
   ]
  },
  {
   "cell_type": "markdown",
   "metadata": {},
   "source": [
    "# W/O Pandas"
   ]
  },
  {
   "cell_type": "code",
   "execution_count": 5,
   "metadata": {},
   "outputs": [
    {
     "data": {
      "text/plain": [
       "['/home/griessbaum/MOD09/MOD05_L2.A2019336.0000.061.2019336211522.hdf',\n",
       " '/home/griessbaum/MOD09/MOD05_L2.A2020254.1320.061.2020255013126.hdf',\n",
       " '/home/griessbaum/MOD09/MOD05_L2.A2005349.2125.061.2017294065400.hdf']"
      ]
     },
     "execution_count": 5,
     "metadata": {},
     "output_type": "execute_result"
    }
   ],
   "source": [
    "file_paths = glob.glob('/home/griessbaum/MOD09/MOD05*[!_stare].hdf')\n",
    "file_paths"
   ]
  },
  {
   "cell_type": "code",
   "execution_count": 15,
   "metadata": {},
   "outputs": [
    {
     "data": {
      "text/plain": [
       "['/home/griessbaum/MOD09/MOD05_L2.A2005349.2125.061.2017294065400.hdf',\n",
       " '/home/griessbaum/MOD09/MOD05_L2.A2020254.1320.061.2020255013126.hdf']"
      ]
     },
     "execution_count": 15,
     "metadata": {},
     "output_type": "execute_result"
    }
   ],
   "source": [
    "with open('../cat.txt', 'r') as cat:\n",
    "    csv =cat.readlines()\n",
    "catalogue = []\n",
    "for row in csv:\n",
    "    catalogue.append(row.split(',')[0])\n",
    "catalogue"
   ]
  },
  {
   "cell_type": "code",
   "execution_count": 18,
   "metadata": {
    "scrolled": true
   },
   "outputs": [
    {
     "data": {
      "text/plain": [
       "['/home/griessbaum/MOD09/MOD05_L2.A2019336.0000.061.2019336211522.hdf']"
      ]
     },
     "execution_count": 18,
     "metadata": {},
     "output_type": "execute_result"
    }
   ],
   "source": [
    "list(set(file_paths) - set(catalogue))"
   ]
  },
  {
   "cell_type": "code",
   "execution_count": null,
   "metadata": {},
   "outputs": [],
   "source": []
  }
 ],
 "metadata": {
  "kernelspec": {
   "display_name": "Python 3 (ipykernel)",
   "language": "python",
   "name": "python3"
  },
  "language_info": {
   "codemirror_mode": {
    "name": "ipython",
    "version": 3
   },
   "file_extension": ".py",
   "mimetype": "text/x-python",
   "name": "python",
   "nbconvert_exporter": "python",
   "pygments_lexer": "ipython3",
   "version": "3.10.4"
  }
 },
 "nbformat": 4,
 "nbformat_minor": 4
}
