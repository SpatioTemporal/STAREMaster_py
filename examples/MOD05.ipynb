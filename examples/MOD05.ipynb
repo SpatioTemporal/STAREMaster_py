{
 "cells": [
  {
   "cell_type": "code",
   "execution_count": 3,
   "metadata": {},
   "outputs": [],
   "source": [
    "from pyhdf.SD import SD\n",
    "import numpy\n",
    "import pystare\n",
    "import importlib\n",
    "import sys\n",
    "sys.path.insert(0,'../') \n",
    "import staremaster.products.mod05\n",
    "import staremaster.conversions"
   ]
  },
  {
   "cell_type": "code",
   "execution_count": 4,
   "metadata": {},
   "outputs": [
    {
     "data": {
      "text/plain": [
       "<module 'staremaster.products.mod05' from '../staremaster/products/mod05.py'>"
      ]
     },
     "execution_count": 4,
     "metadata": {},
     "output_type": "execute_result"
    }
   ],
   "source": [
    "importlib.reload(staremaster.products.mod05)"
   ]
  },
  {
   "cell_type": "code",
   "execution_count": 5,
   "metadata": {},
   "outputs": [],
   "source": [
    "file_path = '/home/griessbaum/MOD09/MOD05_L2.A2005349.2125.061.2017294065400.hdf'\n",
    "granule = staremaster.products.mod05.MOD05(file_path)"
   ]
  },
  {
   "cell_type": "code",
   "execution_count": 6,
   "metadata": {},
   "outputs": [
    {
     "data": {
      "text/plain": [
       "{'CLASS': '\"1\"',\n",
       " 'GRINGPOINTLONGITUDE': {'NUM_VAL': '4',\n",
       "  'CLASS': '\"1\"',\n",
       "  'VALUE': '(-171.348766580247, -145.694586768549, -151.705929561408, -173.673382552354)'},\n",
       " 'GRINGPOINTLATITUDE': {'NUM_VAL': '4',\n",
       "  'CLASS': '\"1\"',\n",
       "  'VALUE': '(37.5897944906235, 33.8625485332967, 16.3276616720112, 19.3618275007196)'},\n",
       " 'GRINGPOINTSEQUENCENO': {'NUM_VAL': '4',\n",
       "  'CLASS': '\"1\"',\n",
       "  'VALUE': '(1, 2, 3, 4)'}}"
      ]
     },
     "execution_count": 6,
     "metadata": {},
     "output_type": "execute_result"
    }
   ],
   "source": [
    "granule.get_metadata_group('ArchiveMetadata')['ARCHIVEDMETADATA']['GPOLYGON']['GPOLYGONCONTAINER']['GRINGPOINT']"
   ]
  },
  {
   "cell_type": "code",
   "execution_count": 1,
   "metadata": {},
   "outputs": [
    {
     "data": {
      "text/plain": [
       "['/home/griessbaum/MOD09/VNP03DNB.A2012092.1642.001.2017285224354.nc']"
      ]
     },
     "execution_count": 1,
     "metadata": {},
     "output_type": "execute_result"
    }
   ],
   "source": [
    "import glob\n",
    "folder = '/home/griessbaum/MOD09/'\n",
    "search = '{folder}{sep}{trunk}*[!_stare].{suffix}'\n",
    "search = search.format(folder=folder, sep='/', trunk='VNP03DNB', suffix='nc')\n",
    "files = glob.glob(search)\n",
    "files"
   ]
  },
  {
   "cell_type": "code",
   "execution_count": 14,
   "metadata": {},
   "outputs": [
    {
     "data": {
      "text/plain": [
       "dtype('int64')"
      ]
     },
     "execution_count": 14,
     "metadata": {},
     "output_type": "execute_result"
    }
   ],
   "source": [
    "staremaster.conversions.gring2cover(granule.gring_lats, \n",
    "                                    granule.gring_lons,\n",
    "                                   8).dtype"
   ]
  },
  {
   "cell_type": "code",
   "execution_count": null,
   "metadata": {},
   "outputs": [],
   "source": []
  }
 ],
 "metadata": {
  "kernelspec": {
   "display_name": "Python 3 (ipykernel)",
   "language": "python",
   "name": "python3"
  },
  "language_info": {
   "codemirror_mode": {
    "name": "ipython",
    "version": 3
   },
   "file_extension": ".py",
   "mimetype": "text/x-python",
   "name": "python",
   "nbconvert_exporter": "python",
   "pygments_lexer": "ipython3",
   "version": "3.8.10"
  }
 },
 "nbformat": 4,
 "nbformat_minor": 4
}
