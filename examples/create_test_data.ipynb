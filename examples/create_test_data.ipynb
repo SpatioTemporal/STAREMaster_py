{
 "cells": [
  {
   "cell_type": "code",
   "execution_count": 1,
   "metadata": {},
   "outputs": [],
   "source": [
    "from pyhdf.SD import SD\n",
    "import numpy\n",
    "import netCDF4"
   ]
  },
  {
   "cell_type": "markdown",
   "metadata": {},
   "source": [
    "# Mod09"
   ]
  },
  {
   "cell_type": "code",
   "execution_count": 15,
   "metadata": {},
   "outputs": [],
   "source": [
    "file_path = '/home/griessbaum/MOD09/MOD09.A2019317.0815.006.2019319020759_.hdf'\n",
    "hdf = SD(file_path)"
   ]
  },
  {
   "cell_type": "code",
   "execution_count": 16,
   "metadata": {},
   "outputs": [],
   "source": [
    "lons = hdf.select('Longitude').get().astype(numpy.double)\n",
    "lats = hdf.select('Latitude').get().astype(numpy.double)"
   ]
  },
  {
   "cell_type": "code",
   "execution_count": 17,
   "metadata": {},
   "outputs": [
    {
     "ename": "HDF4Error",
     "evalue": "SD: no such file",
     "output_type": "error",
     "traceback": [
      "\u001b[0;31m---------------------------------------------------------------------------\u001b[0m",
      "\u001b[0;31mHDF4Error\u001b[0m                                 Traceback (most recent call last)",
      "\u001b[0;32m<ipython-input-17-049bf878b4fd>\u001b[0m in \u001b[0;36m<module>\u001b[0;34m\u001b[0m\n\u001b[1;32m      1\u001b[0m \u001b[0mfile_path\u001b[0m \u001b[0;34m=\u001b[0m \u001b[0;34m'/home/griessbaum/MOD09/MOD09.A2019317.0815.006.2019319020759_mod.hdf'\u001b[0m\u001b[0;34m\u001b[0m\u001b[0;34m\u001b[0m\u001b[0m\n\u001b[0;32m----> 2\u001b[0;31m \u001b[0mhdf2\u001b[0m \u001b[0;34m=\u001b[0m \u001b[0mSD\u001b[0m\u001b[0;34m(\u001b[0m\u001b[0mfile_path\u001b[0m\u001b[0;34m)\u001b[0m\u001b[0;34m\u001b[0m\u001b[0;34m\u001b[0m\u001b[0m\n\u001b[0m",
      "\u001b[0;32m~/.local/lib/python3.8/site-packages/pyhdf/SD.py\u001b[0m in \u001b[0;36m__init__\u001b[0;34m(self, path, mode)\u001b[0m\n\u001b[1;32m   1422\u001b[0m                 \u001b[0mmode\u001b[0m \u001b[0;34m=\u001b[0m \u001b[0mSDC\u001b[0m\u001b[0;34m.\u001b[0m\u001b[0mREAD\u001b[0m\u001b[0;34m\u001b[0m\u001b[0;34m\u001b[0m\u001b[0m\n\u001b[1;32m   1423\u001b[0m             \u001b[0;32melse\u001b[0m\u001b[0;34m:\u001b[0m\u001b[0;34m\u001b[0m\u001b[0;34m\u001b[0m\u001b[0m\n\u001b[0;32m-> 1424\u001b[0;31m                 \u001b[0;32mraise\u001b[0m \u001b[0mHDF4Error\u001b[0m\u001b[0;34m(\u001b[0m\u001b[0;34m\"SD: no such file\"\u001b[0m\u001b[0;34m)\u001b[0m\u001b[0;34m\u001b[0m\u001b[0;34m\u001b[0m\u001b[0m\n\u001b[0m\u001b[1;32m   1425\u001b[0m         \u001b[0;32melse\u001b[0m\u001b[0;34m:\u001b[0m\u001b[0;34m\u001b[0m\u001b[0;34m\u001b[0m\u001b[0m\n\u001b[1;32m   1426\u001b[0m             \u001b[0;32mraise\u001b[0m \u001b[0mHDF4Error\u001b[0m\u001b[0;34m(\u001b[0m\u001b[0;34m\"SD: bad mode, READ or WRITE must be set\"\u001b[0m\u001b[0;34m)\u001b[0m\u001b[0;34m\u001b[0m\u001b[0;34m\u001b[0m\u001b[0m\n",
      "\u001b[0;31mHDF4Error\u001b[0m: SD: no such file"
     ]
    }
   ],
   "source": [
    "file_path = '/home/griessbaum/MOD09/MOD09.A2019317.0815.006.2019319020759_mod.hdf'\n",
    "hdf2 = SD(file_path)"
   ]
  },
  {
   "cell_type": "markdown",
   "metadata": {},
   "source": [
    "# VNP09"
   ]
  },
  {
   "cell_type": "code",
   "execution_count": 2,
   "metadata": {},
   "outputs": [],
   "source": [
    "file_path = '/home/griessbaum/MOD09/VNP03DNB.A2012092.1642.001.2017285224354_.nc'\n",
    "ncdf = netCDF4.Dataset(file_path, 'a', format='NETCDF4')"
   ]
  },
  {
   "cell_type": "code",
   "execution_count": 48,
   "metadata": {},
   "outputs": [
    {
     "data": {
      "text/plain": [
       "<class 'netCDF4._netCDF4.Group'>\n",
       "group /scan_line_attributes:\n",
       "    dimensions(sizes): \n",
       "    variables(dimensions): float64 scan_start_time(number_of_scans), float64 scan_end_time(number_of_scans), float64 ev_mid_time(number_of_scans), uint8 HAM_side(number_of_scans), uint8 sensor_mode(number_of_scans), int16 scan_quality(number_of_scans)\n",
       "    groups: "
      ]
     },
     "execution_count": 48,
     "metadata": {},
     "output_type": "execute_result"
    }
   ],
   "source": [
    "ncdf.groups['scan_line_attributes']#.delncattr('scan_start_time')"
   ]
  },
  {
   "cell_type": "code",
   "execution_count": 27,
   "metadata": {},
   "outputs": [
    {
     "name": "stdout",
     "output_type": "stream",
     "text": [
      "dict_keys(['platform', 'instrument', 'product_name', 'LocalGranuleID', 'LongName', 'ShortName', 'processing_version', 'Conventions', 'institution', 'license', 'naming_authority', 'date_created', 'ProductionTime', 'keywords_vocabulary', 'stdname_vocabulary', 'creator_name', 'creator_email', 'creator_url', 'project', 'publisher_name', 'publisher_url', 'publisher_email', 'processing_level', 'cdm_data_type', 'number_of_filled_scans', 'OrbitNumber', 'history', 'source', 'time_coverage_start', 'TAI93_leapseconds', 'time_coverage_end', 'PGE_StartTime', 'PGE_EndTime', 'StartTime', 'EndTime', 'PGE_Name', 'VersionId', 'startDirection', 'endDirection', 'DayNightFlag', 'format_version', 'instrument_number', 'GRingPointSequenceNo', 'PGEVersion', 'GRingPointLatitude', 'GRingPointLongitude', 'geospatial_lat_units', 'geospatial_lon_units', 'geospatial_lat_min', 'geospatial_lat_max', 'geospatial_lon_min', 'geospatial_lon_max', 'SouthBoundingCoordinate', 'NorthBoundingCoordinate', 'WestBoundingCoordinate', 'EastBoundingCoordinate', 'ProcessingEnvironment', 'RangeBeginningDate', 'AlgorithmVersion', 'SatelliteInstrument', 'InputPointer', 'RangeEndingTime', 'identifier_product_doi_authority', 'identifier_product_doi', 'RangeBeginningTime', 'ProcessingCenter', 'AlgorithmType', 'RangeEndingDate'])\n"
     ]
    },
    {
     "ename": "RuntimeError",
     "evalue": "NetCDF: Attribute not found",
     "output_type": "error",
     "traceback": [
      "\u001b[0;31m---------------------------------------------------------------------------\u001b[0m",
      "\u001b[0;31mRuntimeError\u001b[0m                              Traceback (most recent call last)",
      "\u001b[0;32m<ipython-input-27-82171fbb9aa5>\u001b[0m in \u001b[0;36m<module>\u001b[0;34m\u001b[0m\n\u001b[1;32m      1\u001b[0m \u001b[0mprint\u001b[0m\u001b[0;34m(\u001b[0m\u001b[0mncdf\u001b[0m\u001b[0;34m.\u001b[0m\u001b[0m__dict__\u001b[0m\u001b[0;34m.\u001b[0m\u001b[0mkeys\u001b[0m\u001b[0;34m(\u001b[0m\u001b[0;34m)\u001b[0m\u001b[0;34m)\u001b[0m\u001b[0;34m\u001b[0m\u001b[0;34m\u001b[0m\u001b[0m\n\u001b[0;32m----> 2\u001b[0;31m \u001b[0mncdf\u001b[0m\u001b[0;34m.\u001b[0m\u001b[0mdelncattr\u001b[0m\u001b[0;34m(\u001b[0m\u001b[0;34m'title'\u001b[0m\u001b[0;34m)\u001b[0m\u001b[0;34m\u001b[0m\u001b[0;34m\u001b[0m\u001b[0m\n\u001b[0m",
      "\u001b[0;32mnetCDF4/_netCDF4.pyx\u001b[0m in \u001b[0;36mnetCDF4._netCDF4.Dataset.delncattr\u001b[0;34m()\u001b[0m\n",
      "\u001b[0;32mnetCDF4/_netCDF4.pyx\u001b[0m in \u001b[0;36mnetCDF4._netCDF4._ensure_nc_success\u001b[0;34m()\u001b[0m\n",
      "\u001b[0;31mRuntimeError\u001b[0m: NetCDF: Attribute not found"
     ]
    }
   ],
   "source": [
    "print(ncdf.__dict__.keys())\n",
    "ncdf.delncattr('title')"
   ]
  },
  {
   "cell_type": "code",
   "execution_count": 43,
   "metadata": {
    "scrolled": true
   },
   "outputs": [
    {
     "data": {
      "text/plain": [
       "<class 'netCDF4._netCDF4.Group'>\n",
       "group /navigation_data:\n",
       "    dimensions(sizes): \n",
       "    variables(dimensions): float32 att_quat_ev(number_of_scans, quaternion_elements), float32 att_ang_start(number_of_scans, vector_elements), float32 att_ang_end(number_of_scans, vector_elements), float32 att_ang_mid(number_of_scans, vector_elements), float32 orb_pos_ev_start(number_of_scans, vector_elements), float32 orb_pos_ev_end(number_of_scans, vector_elements), float32 orb_pos_ev_mid(number_of_scans, vector_elements), float32 orb_vel_ev_start(number_of_scans, vector_elements), float32 orb_vel_ev_end(number_of_scans, vector_elements), float32 orb_vel_ev_mid(number_of_scans, vector_elements), float32 solar_j2000(number_of_scans, vector_elements), float32 solar_inst(number_of_scans, vector_elements), float32 earth_sun_distance(number_of_scans), float32 lunar_j2000(number_of_scans, vector_elements), float32 lunar_inst(number_of_scans, vector_elements), float32 earth_moon_distance(number_of_scans)\n",
       "    groups: "
      ]
     },
     "execution_count": 43,
     "metadata": {},
     "output_type": "execute_result"
    }
   ],
   "source": [
    "ncdf.groups['navigation_data']#.delncattr('att_quat_ev')"
   ]
  },
  {
   "cell_type": "code",
   "execution_count": 19,
   "metadata": {},
   "outputs": [
    {
     "ename": "RuntimeError",
     "evalue": "NetCDF: Attribute not found",
     "output_type": "error",
     "traceback": [
      "\u001b[0;31m---------------------------------------------------------------------------\u001b[0m",
      "\u001b[0;31mRuntimeError\u001b[0m                              Traceback (most recent call last)",
      "\u001b[0;32m<ipython-input-19-98276fd8b374>\u001b[0m in \u001b[0;36m<module>\u001b[0;34m\u001b[0m\n\u001b[0;32m----> 1\u001b[0;31m \u001b[0mncdf\u001b[0m\u001b[0;34m.\u001b[0m\u001b[0mgroups\u001b[0m\u001b[0;34m[\u001b[0m\u001b[0;34m'navigation_data'\u001b[0m\u001b[0;34m]\u001b[0m\u001b[0;34m.\u001b[0m\u001b[0mdelncattr\u001b[0m\u001b[0;34m(\u001b[0m\u001b[0;34m''\u001b[0m\u001b[0;34m)\u001b[0m\u001b[0;34m\u001b[0m\u001b[0;34m\u001b[0m\u001b[0m\n\u001b[0m",
      "\u001b[0;32mnetCDF4/_netCDF4.pyx\u001b[0m in \u001b[0;36mnetCDF4._netCDF4.Dataset.delncattr\u001b[0;34m()\u001b[0m\n",
      "\u001b[0;32mnetCDF4/_netCDF4.pyx\u001b[0m in \u001b[0;36mnetCDF4._netCDF4._ensure_nc_success\u001b[0;34m()\u001b[0m\n",
      "\u001b[0;31mRuntimeError\u001b[0m: NetCDF: Attribute not found"
     ]
    }
   ],
   "source": [
    "ncdf.groups['navigation_data'].delncattr('')"
   ]
  },
  {
   "cell_type": "code",
   "execution_count": null,
   "metadata": {},
   "outputs": [],
   "source": []
  }
 ],
 "metadata": {
  "kernelspec": {
   "display_name": "Python 3",
   "language": "python",
   "name": "python3"
  },
  "language_info": {
   "codemirror_mode": {
    "name": "ipython",
    "version": 3
   },
   "file_extension": ".py",
   "mimetype": "text/x-python",
   "name": "python",
   "nbconvert_exporter": "python",
   "pygments_lexer": "ipython3",
   "version": "3.8.5"
  }
 },
 "nbformat": 4,
 "nbformat_minor": 4
}
