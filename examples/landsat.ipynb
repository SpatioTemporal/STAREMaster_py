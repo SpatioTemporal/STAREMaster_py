{
 "cells": [
  {
   "cell_type": "code",
   "execution_count": 1,
   "id": "successful-suggestion",
   "metadata": {},
   "outputs": [
    {
     "ename": "ModuleNotFoundError",
     "evalue": "No module named 'rasterio'",
     "output_type": "error",
     "traceback": [
      "\u001b[0;31m---------------------------------------------------------------------------\u001b[0m",
      "\u001b[0;31mModuleNotFoundError\u001b[0m                       Traceback (most recent call last)",
      "\u001b[0;32m/tmp/ipykernel_20822/3384612667.py\u001b[0m in \u001b[0;36m<module>\u001b[0;34m\u001b[0m\n\u001b[0;32m----> 1\u001b[0;31m \u001b[0;32mimport\u001b[0m \u001b[0mrasterio\u001b[0m\u001b[0;34m\u001b[0m\u001b[0;34m\u001b[0m\u001b[0m\n\u001b[0m\u001b[1;32m      2\u001b[0m \u001b[0;32mimport\u001b[0m \u001b[0mrasterio\u001b[0m\u001b[0;34m.\u001b[0m\u001b[0mwarp\u001b[0m\u001b[0;34m\u001b[0m\u001b[0;34m\u001b[0m\u001b[0m\n\u001b[1;32m      3\u001b[0m \u001b[0;32mimport\u001b[0m \u001b[0mmatplotlib\u001b[0m\u001b[0;34m.\u001b[0m\u001b[0mpyplot\u001b[0m \u001b[0;32mas\u001b[0m \u001b[0mplt\u001b[0m\u001b[0;34m\u001b[0m\u001b[0;34m\u001b[0m\u001b[0m\n\u001b[1;32m      4\u001b[0m \u001b[0;32mimport\u001b[0m \u001b[0maffine\u001b[0m\u001b[0;34m\u001b[0m\u001b[0;34m\u001b[0m\u001b[0m\n\u001b[1;32m      5\u001b[0m \u001b[0;32mimport\u001b[0m \u001b[0mnumpy\u001b[0m\u001b[0;34m\u001b[0m\u001b[0;34m\u001b[0m\u001b[0m\n",
      "\u001b[0;31mModuleNotFoundError\u001b[0m: No module named 'rasterio'"
     ]
    }
   ],
   "source": [
    "import rasterio\n",
    "import rasterio.warp\n",
    "import matplotlib.pyplot as plt\n",
    "import affine\n",
    "import numpy\n",
    "import pyproj\n",
    "import pandas\n",
    "\n",
    "import starepandas\n",
    "import pystare"
   ]
  },
  {
   "cell_type": "markdown",
   "id": "seasonal-faith",
   "metadata": {},
   "source": [
    "# Load Landsat Granule/Scene"
   ]
  },
  {
   "cell_type": "code",
   "execution_count": 2,
   "id": "opponent-corpus",
   "metadata": {},
   "outputs": [],
   "source": [
    "fname = '../tests/data/landsat/LC08_L2SP_042036_20210729_20210804_02_T1_SR_B1.TIF'\n",
    "with rasterio.open(fname) as dataset:\n",
    "    data = dataset.read()\n",
    "    mask = dataset.dataset_mask()\n",
    "    crs = dataset.crs\n",
    "\n",
    "    # Pixel center instead of pixel corner\n",
    "    transform = dataset.transform * affine.Affine.translation(0.5, 0.5)"
   ]
  },
  {
   "cell_type": "code",
   "execution_count": 3,
   "id": "usual-grain",
   "metadata": {},
   "outputs": [],
   "source": [
    "indices = numpy.indices(dataset.shape, dtype='int16')\n",
    "xy = numpy.array(transform*indices, dtype='int32')"
   ]
  },
  {
   "cell_type": "code",
   "execution_count": 4,
   "id": "technical-absorption",
   "metadata": {},
   "outputs": [],
   "source": [
    "transformer = pyproj.Transformer.from_crs(crs, \"epsg:4326\")\n",
    "lat, lon = transformer.transform(xy[0], xy[1])"
   ]
  },
  {
   "cell_type": "code",
   "execution_count": 6,
   "id": "bibliographic-daily",
   "metadata": {},
   "outputs": [],
   "source": [
    "sids = pystare.from_latlon2D(lat, lon, adapt_resolution=True)"
   ]
  },
  {
   "cell_type": "code",
   "execution_count": 7,
   "id": "beginning-coverage",
   "metadata": {},
   "outputs": [],
   "source": [
    "landsat = starepandas.STAREDataFrame({'lon': lon.flatten(),\n",
    "                                      'lat': lat.flatten(),\n",
    "                                      'band_1': data.flatten()})"
   ]
  },
  {
   "cell_type": "code",
   "execution_count": 8,
   "id": "closed-retailer",
   "metadata": {},
   "outputs": [],
   "source": [
    "landsat = starepandas.STAREDataFrame(landsat, stare=sids.flatten())\n",
    "landsat.to_pickle('landsat.pickle')"
   ]
  },
  {
   "cell_type": "code",
   "execution_count": 2,
   "id": "informative-distance",
   "metadata": {},
   "outputs": [],
   "source": [
    "landsat = pandas.read_pickle('landsat.pickle')"
   ]
  },
  {
   "cell_type": "code",
   "execution_count": 10,
   "id": "suited-characteristic",
   "metadata": {},
   "outputs": [],
   "source": [
    "del(xy)\n",
    "del(lon)\n",
    "del(lat)\n",
    "del(sids)"
   ]
  },
  {
   "cell_type": "code",
   "execution_count": 4,
   "id": "classical-bristol",
   "metadata": {},
   "outputs": [
    {
     "data": {
      "text/html": [
       "<div>\n",
       "<style scoped>\n",
       "    .dataframe tbody tr th:only-of-type {\n",
       "        vertical-align: middle;\n",
       "    }\n",
       "\n",
       "    .dataframe tbody tr th {\n",
       "        vertical-align: top;\n",
       "    }\n",
       "\n",
       "    .dataframe thead th {\n",
       "        text-align: right;\n",
       "    }\n",
       "</style>\n",
       "<table border=\"1\" class=\"dataframe\">\n",
       "  <thead>\n",
       "    <tr style=\"text-align: right;\">\n",
       "      <th></th>\n",
       "      <th>lon</th>\n",
       "      <th>lat</th>\n",
       "      <th>band_1</th>\n",
       "      <th>stare</th>\n",
       "    </tr>\n",
       "  </thead>\n",
       "  <tbody>\n",
       "    <tr>\n",
       "      <th>0</th>\n",
       "      <td>-121.173074</td>\n",
       "      <td>35.644071</td>\n",
       "      <td>0</td>\n",
       "      <td>3332606633110194034</td>\n",
       "    </tr>\n",
       "    <tr>\n",
       "      <th>1</th>\n",
       "      <td>-121.173060</td>\n",
       "      <td>35.643802</td>\n",
       "      <td>0</td>\n",
       "      <td>3332606633132732946</td>\n",
       "    </tr>\n",
       "    <tr>\n",
       "      <th>2</th>\n",
       "      <td>-121.173046</td>\n",
       "      <td>35.643532</td>\n",
       "      <td>0</td>\n",
       "      <td>3332606633106550578</td>\n",
       "    </tr>\n",
       "    <tr>\n",
       "      <th>3</th>\n",
       "      <td>-121.173032</td>\n",
       "      <td>35.643262</td>\n",
       "      <td>0</td>\n",
       "      <td>3332606633284076242</td>\n",
       "    </tr>\n",
       "    <tr>\n",
       "      <th>4</th>\n",
       "      <td>-121.173018</td>\n",
       "      <td>35.642992</td>\n",
       "      <td>0</td>\n",
       "      <td>3332606633289035538</td>\n",
       "    </tr>\n",
       "    <tr>\n",
       "      <th>...</th>\n",
       "      <td>...</td>\n",
       "      <td>...</td>\n",
       "      <td>...</td>\n",
       "      <td>...</td>\n",
       "    </tr>\n",
       "    <tr>\n",
       "      <th>62342586</th>\n",
       "      <td>-118.499033</td>\n",
       "      <td>33.590141</td>\n",
       "      <td>0</td>\n",
       "      <td>3327503959231049106</td>\n",
       "    </tr>\n",
       "    <tr>\n",
       "      <th>62342587</th>\n",
       "      <td>-118.499029</td>\n",
       "      <td>33.589871</td>\n",
       "      <td>0</td>\n",
       "      <td>3327503959131653330</td>\n",
       "    </tr>\n",
       "    <tr>\n",
       "      <th>62342588</th>\n",
       "      <td>-118.499024</td>\n",
       "      <td>33.589600</td>\n",
       "      <td>0</td>\n",
       "      <td>3327503943972637042</td>\n",
       "    </tr>\n",
       "    <tr>\n",
       "      <th>62342589</th>\n",
       "      <td>-118.499019</td>\n",
       "      <td>33.589330</td>\n",
       "      <td>0</td>\n",
       "      <td>3327503943978368722</td>\n",
       "    </tr>\n",
       "    <tr>\n",
       "      <th>62342590</th>\n",
       "      <td>-118.499015</td>\n",
       "      <td>33.589059</td>\n",
       "      <td>0</td>\n",
       "      <td>3327503943968627442</td>\n",
       "    </tr>\n",
       "  </tbody>\n",
       "</table>\n",
       "<p>62342591 rows × 4 columns</p>\n",
       "</div>"
      ],
      "text/plain": [
       "                 lon        lat  band_1                stare\n",
       "0        -121.173074  35.644071       0  3332606633110194034\n",
       "1        -121.173060  35.643802       0  3332606633132732946\n",
       "2        -121.173046  35.643532       0  3332606633106550578\n",
       "3        -121.173032  35.643262       0  3332606633284076242\n",
       "4        -121.173018  35.642992       0  3332606633289035538\n",
       "...              ...        ...     ...                  ...\n",
       "62342586 -118.499033  33.590141       0  3327503959231049106\n",
       "62342587 -118.499029  33.589871       0  3327503959131653330\n",
       "62342588 -118.499024  33.589600       0  3327503943972637042\n",
       "62342589 -118.499019  33.589330       0  3327503943978368722\n",
       "62342590 -118.499015  33.589059       0  3327503943968627442\n",
       "\n",
       "[62342591 rows x 4 columns]"
      ]
     },
     "execution_count": 4,
     "metadata": {},
     "output_type": "execute_result"
    }
   ],
   "source": [
    "landsat#.head()"
   ]
  },
  {
   "cell_type": "markdown",
   "id": "found-printing",
   "metadata": {},
   "source": [
    "# Mod09"
   ]
  },
  {
   "cell_type": "code",
   "execution_count": 6,
   "id": "realistic-national",
   "metadata": {
    "scrolled": false
   },
   "outputs": [
    {
     "data": {
      "text/html": [
       "<div>\n",
       "<style scoped>\n",
       "    .dataframe tbody tr th:only-of-type {\n",
       "        vertical-align: middle;\n",
       "    }\n",
       "\n",
       "    .dataframe tbody tr th {\n",
       "        vertical-align: top;\n",
       "    }\n",
       "\n",
       "    .dataframe thead th {\n",
       "        text-align: right;\n",
       "    }\n",
       "</style>\n",
       "<table border=\"1\" class=\"dataframe\">\n",
       "  <thead>\n",
       "    <tr style=\"text-align: right;\">\n",
       "      <th></th>\n",
       "      <th>lat</th>\n",
       "      <th>lon</th>\n",
       "      <th>stare</th>\n",
       "      <th>Water_Vapor_Infrared</th>\n",
       "    </tr>\n",
       "  </thead>\n",
       "  <tbody>\n",
       "    <tr>\n",
       "      <th>0</th>\n",
       "      <td>46.985130</td>\n",
       "      <td>-143.584824</td>\n",
       "      <td>3260181350377031657</td>\n",
       "      <td>-9999</td>\n",
       "    </tr>\n",
       "    <tr>\n",
       "      <th>1</th>\n",
       "      <td>46.980732</td>\n",
       "      <td>-143.275070</td>\n",
       "      <td>3260132694279419401</td>\n",
       "      <td>-9999</td>\n",
       "    </tr>\n",
       "    <tr>\n",
       "      <th>2</th>\n",
       "      <td>46.975712</td>\n",
       "      <td>-142.976837</td>\n",
       "      <td>3260517386454662729</td>\n",
       "      <td>-9999</td>\n",
       "    </tr>\n",
       "    <tr>\n",
       "      <th>3</th>\n",
       "      <td>46.970135</td>\n",
       "      <td>-142.689285</td>\n",
       "      <td>3260600023735943401</td>\n",
       "      <td>-9999</td>\n",
       "    </tr>\n",
       "    <tr>\n",
       "      <th>4</th>\n",
       "      <td>46.964069</td>\n",
       "      <td>-142.411743</td>\n",
       "      <td>3260597064208280201</td>\n",
       "      <td>-9999</td>\n",
       "    </tr>\n",
       "  </tbody>\n",
       "</table>\n",
       "</div>"
      ],
      "text/plain": [
       "         lat         lon                stare  Water_Vapor_Infrared\n",
       "0  46.985130 -143.584824  3260181350377031657                 -9999\n",
       "1  46.980732 -143.275070  3260132694279419401                 -9999\n",
       "2  46.975712 -142.976837  3260517386454662729                 -9999\n",
       "3  46.970135 -142.689285  3260600023735943401                 -9999\n",
       "4  46.964069 -142.411743  3260597064208280201                 -9999"
      ]
     },
     "execution_count": 6,
     "metadata": {},
     "output_type": "execute_result"
    }
   ],
   "source": [
    "fname = '../tests/data/mod05/MOD05_L2.A2021210.1935.061.2021213104049.hdf'\n",
    "mod05 = starepandas.read_granule(fname, add_stare=True)\n",
    "mod05 = mod05[['lat', 'lon', 'stare', 'Water_Vapor_Infrared']]\n",
    "mod05.head()"
   ]
  },
  {
   "cell_type": "code",
   "execution_count": 7,
   "id": "searching-roller",
   "metadata": {},
   "outputs": [],
   "source": [
    "joined = starepandas.stare_join(landsat[0:100], mod05)\n",
    "joined = starepandas.STAREDataFrame(joined)"
   ]
  },
  {
   "cell_type": "code",
   "execution_count": 46,
   "id": "union-rwanda",
   "metadata": {},
   "outputs": [],
   "source": [
    "joined['hex_left'] = joined.set_stare('stare_left').hex()\n",
    "joined['hex_right'] = joined.set_stare('stare_right').hex()"
   ]
  },
  {
   "cell_type": "code",
   "execution_count": 47,
   "id": "guilty-effectiveness",
   "metadata": {},
   "outputs": [
    {
     "data": {
      "text/html": [
       "<div>\n",
       "<style scoped>\n",
       "    .dataframe tbody tr th:only-of-type {\n",
       "        vertical-align: middle;\n",
       "    }\n",
       "\n",
       "    .dataframe tbody tr th {\n",
       "        vertical-align: top;\n",
       "    }\n",
       "\n",
       "    .dataframe thead th {\n",
       "        text-align: right;\n",
       "    }\n",
       "</style>\n",
       "<table border=\"1\" class=\"dataframe\">\n",
       "  <thead>\n",
       "    <tr style=\"text-align: right;\">\n",
       "      <th></th>\n",
       "      <th>lon_left</th>\n",
       "      <th>lat_left</th>\n",
       "      <th>band_1</th>\n",
       "      <th>stare_left</th>\n",
       "      <th>key_right</th>\n",
       "      <th>lat_right</th>\n",
       "      <th>lon_right</th>\n",
       "      <th>stare_right</th>\n",
       "      <th>Water_Vapor_Infrared</th>\n",
       "      <th>hex_left</th>\n",
       "      <th>hex_right</th>\n",
       "    </tr>\n",
       "  </thead>\n",
       "  <tbody>\n",
       "    <tr>\n",
       "      <th>0</th>\n",
       "      <td>-121.173074</td>\n",
       "      <td>35.644071</td>\n",
       "      <td>0</td>\n",
       "      <td>3332606633110194034</td>\n",
       "      <td>49668</td>\n",
       "      <td>35.770489</td>\n",
       "      <td>-121.145630</td>\n",
       "      <td>3332607512480967337</td>\n",
       "      <td>3496</td>\n",
       "      <td>0x2e3fcc136ea4c772</td>\n",
       "      <td>0x2e3fcce02d39eaa9</td>\n",
       "    </tr>\n",
       "    <tr>\n",
       "      <th>0</th>\n",
       "      <td>-121.173074</td>\n",
       "      <td>35.644071</td>\n",
       "      <td>0</td>\n",
       "      <td>3332606633110194034</td>\n",
       "      <td>49938</td>\n",
       "      <td>35.758755</td>\n",
       "      <td>-121.156456</td>\n",
       "      <td>3332608650517619273</td>\n",
       "      <td>3595</td>\n",
       "      <td>0x2e3fcc136ea4c772</td>\n",
       "      <td>0x2e3fcde9257f2249</td>\n",
       "    </tr>\n",
       "    <tr>\n",
       "      <th>0</th>\n",
       "      <td>-121.173074</td>\n",
       "      <td>35.644071</td>\n",
       "      <td>0</td>\n",
       "      <td>3332606633110194034</td>\n",
       "      <td>50208</td>\n",
       "      <td>35.683968</td>\n",
       "      <td>-121.178032</td>\n",
       "      <td>3332606972556703241</td>\n",
       "      <td>-9999</td>\n",
       "      <td>0x2e3fcc136ea4c772</td>\n",
       "      <td>0x2e3fcc62773b7609</td>\n",
       "    </tr>\n",
       "    <tr>\n",
       "      <th>0</th>\n",
       "      <td>-121.173074</td>\n",
       "      <td>35.644071</td>\n",
       "      <td>0</td>\n",
       "      <td>3332606633110194034</td>\n",
       "      <td>50478</td>\n",
       "      <td>35.671558</td>\n",
       "      <td>-121.185814</td>\n",
       "      <td>3332607016873912969</td>\n",
       "      <td>-9999</td>\n",
       "      <td>0x2e3fcc136ea4c772</td>\n",
       "      <td>0x2e3fcc6cc8be6a89</td>\n",
       "    </tr>\n",
       "    <tr>\n",
       "      <th>1</th>\n",
       "      <td>-121.173060</td>\n",
       "      <td>35.643802</td>\n",
       "      <td>0</td>\n",
       "      <td>3332606633132732946</td>\n",
       "      <td>49668</td>\n",
       "      <td>35.770489</td>\n",
       "      <td>-121.145630</td>\n",
       "      <td>3332607512480967337</td>\n",
       "      <td>3496</td>\n",
       "      <td>0x2e3fcc136ffcb212</td>\n",
       "      <td>0x2e3fcce02d39eaa9</td>\n",
       "    </tr>\n",
       "  </tbody>\n",
       "</table>\n",
       "</div>"
      ],
      "text/plain": [
       "     lon_left   lat_left  band_1           stare_left  key_right  lat_right  \\\n",
       "0 -121.173074  35.644071       0  3332606633110194034      49668  35.770489   \n",
       "0 -121.173074  35.644071       0  3332606633110194034      49938  35.758755   \n",
       "0 -121.173074  35.644071       0  3332606633110194034      50208  35.683968   \n",
       "0 -121.173074  35.644071       0  3332606633110194034      50478  35.671558   \n",
       "1 -121.173060  35.643802       0  3332606633132732946      49668  35.770489   \n",
       "\n",
       "    lon_right          stare_right  Water_Vapor_Infrared            hex_left  \\\n",
       "0 -121.145630  3332607512480967337                  3496  0x2e3fcc136ea4c772   \n",
       "0 -121.156456  3332608650517619273                  3595  0x2e3fcc136ea4c772   \n",
       "0 -121.178032  3332606972556703241                 -9999  0x2e3fcc136ea4c772   \n",
       "0 -121.185814  3332607016873912969                 -9999  0x2e3fcc136ea4c772   \n",
       "1 -121.145630  3332607512480967337                  3496  0x2e3fcc136ffcb212   \n",
       "\n",
       "            hex_right  \n",
       "0  0x2e3fcce02d39eaa9  \n",
       "0  0x2e3fcde9257f2249  \n",
       "0  0x2e3fcc62773b7609  \n",
       "0  0x2e3fcc6cc8be6a89  \n",
       "1  0x2e3fcce02d39eaa9  "
      ]
     },
     "execution_count": 47,
     "metadata": {},
     "output_type": "execute_result"
    }
   ],
   "source": [
    "joined.head()"
   ]
  },
  {
   "cell_type": "code",
   "execution_count": 48,
   "id": "greenhouse-dakota",
   "metadata": {},
   "outputs": [],
   "source": [
    "joined['trixels_right'] = joined.set_stare('stare_right').make_trixels()\n",
    "joined['trixels_left'] = joined.set_stare('stare_left').make_trixels()"
   ]
  },
  {
   "cell_type": "code",
   "execution_count": 49,
   "id": "worthy-refund",
   "metadata": {},
   "outputs": [
    {
     "data": {
      "text/plain": [
       "<AxesSubplot:>"
      ]
     },
     "execution_count": 49,
     "metadata": {},
     "output_type": "execute_result"
    },
    {
     "data": {
      "image/png": "[encoded data removed]",
      "text/plain": [
       "<Figure size 1500x1500 with 1 Axes>"
      ]
     },
     "metadata": {
      "needs_background": "light"
     },
     "output_type": "display_data"
    }
   ],
   "source": [
    "fig, ax = plt.subplots(figsize=(5,5), dpi=300)\n",
    "ax.grid(True)\n",
    "\n",
    "joined.set_trixels('trixels_left').plot(ax=ax)\n",
    "joined.set_trixels('trixels_right').plot(ax=ax, color='r')"
   ]
  },
  {
   "cell_type": "code",
   "execution_count": null,
   "id": "intellectual-desperate",
   "metadata": {},
   "outputs": [],
   "source": []
  }
 ],
 "metadata": {
  "kernelspec": {
   "display_name": "Python 3 (ipykernel)",
   "language": "python",
   "name": "python3"
  },
  "language_info": {
   "codemirror_mode": {
    "name": "ipython",
    "version": 3
   },
   "file_extension": ".py",
   "mimetype": "text/x-python",
   "name": "python",
   "nbconvert_exporter": "python",
   "pygments_lexer": "ipython3",
   "version": "3.8.10"
  }
 },
 "nbformat": 4,
 "nbformat_minor": 5
}
